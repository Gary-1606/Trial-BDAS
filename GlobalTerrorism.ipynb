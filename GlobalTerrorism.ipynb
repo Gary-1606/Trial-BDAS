{
 "cells": [
  {
   "cell_type": "markdown",
   "metadata": {},
   "source": [
    "# Pyspark"
   ]
  },
  {
   "cell_type": "code",
   "execution_count": 1,
   "metadata": {},
   "outputs": [],
   "source": [
    "# Must be included at the beginning of each new notebook.\n",
    "import findspark\n",
    "findspark.init('/home/ubuntu/spark-2.1.1-bin-hadoop2.7')\n",
    "import pyspark\n",
    "from pyspark.sql import SparkSession\n",
    "spark = SparkSession.builder.appName('GlobalTerrorism').getOrCreate()"
   ]
  },
  {
   "cell_type": "markdown",
   "metadata": {},
   "source": [
    "# Importing Dataset"
   ]
  },
  {
   "cell_type": "code",
   "execution_count": 2,
   "metadata": {},
   "outputs": [
    {
     "name": "stdout",
     "output_type": "stream",
     "text": [
      "+-----+------+-----+-------+-----------+------+--------------------+-----------------+----------+-----+-----+-----+-------+-----------+--------------------+---------+--------------------+-------+-----------------+--------------------+----------+---------+-------------+--------------------+-----+---------+------+\n",
      "|iyear|imonth|idate|country|country_txt|region|          region_txt|        provstate|      city|crit1|crit2|crit3|success|attacktype1|     attacktype1_txt|targtype1|       targtype1_txt|natlty1|      natlty1_txt|               gname|individual|weaptype1|weaptype1_txt|          weapdetail|nkill|ishostkid|ransom|\n",
      "+-----+------+-----+-------+-----------+------+--------------------+-----------------+----------+-----+-----+-----+-------+-----------+--------------------+---------+--------------------+-------+-----------------+--------------------+----------+---------+-------------+--------------------+-----+---------+------+\n",
      "| 2000|     1|    1|    139|    Namibia|    11|  Sub-Saharan Africa|          Kavango|  Muitjiku|    1|    1|    1|      1|          2|       Armed Assault|        1|            Business|    139|          Namibia|National Union fo...|         0|        5|     Firearms|                null|    0|        0|  null|\n",
      "| 2000|     1|    1|    139|    Namibia|    11|  Sub-Saharan Africa|          Kavango|  Muitjiku|    1|    1|    1|      1|          6|Hostage Taking (K...|        1|            Business|    139|          Namibia|National Union fo...|         0|        5|     Firearms|                null|    0|        1|     0|\n",
      "| 2000|     1|    1|     92|      India|     6|          South Asia|Jammu and Kashmir|  Udhampur|    1|    1|    1|      1|          2|       Armed Assault|        3|              Police|     92|            India|Lashkar-e-Taiba (...|         0|        5|     Firearms|A sniper rifle wa...|    1|        0|  null|\n",
      "| 2000|     1|    1|   1003|     Kosovo|     9|      Eastern Europe|Kosovo (Province)|      Peje|    1|    1|    1|      1|          3|   Bombing/Explosion|       14|Private Citizens ...|    103|       Kazakhstan|             Unknown|         0|        6|   Explosives|                null|    0|        0|  null|\n",
      "| 2000|     1|    1|    182|    Somalia|    11|  Sub-Saharan Africa|         Banaadir| Mogadishu|    1|    0|    1|      1|          2|       Armed Assault|       14|Private Citizens ...|    182|          Somalia|             Unknown|         0|        5|     Firearms|                null|    6|        0|  null|\n",
      "| 2000|     1|    1|     19| Bangladesh|     6|          South Asia|       Chittagong|Chittagong|    1|    1|    1|      1|          2|       Armed Assault|       14|Private Citizens ...|     19|       Bangladesh|             Unknown|         0|        6|   Explosives|Unknown gun types...| null|        0|  null|\n",
      "| 2000|     1|    1|     92|      India|     6|          South Asia|            Assam|Kakotibari|    1|    1|    1|      1|          3|   Bombing/Explosion|       21|           Utilities|     92|            India|United Liberation...|         0|        6|   Explosives|                null|    0|        0|  null|\n",
      "| 2000|     1|    1|   1003|     Kosovo|     9|      Eastern Europe|Kosovo (Province)| Gorazhdec|    1|    1|    1|      0|          2|       Armed Assault|       14|Private Citizens ...|    175|Serbia-Montenegro|             Unknown|         0|        5|     Firearms|                null|    0|        0|  null|\n",
      "| 2000|     1|    1|    209|     Turkey|    10|Middle East & Nor...|         Istanbul|  Istanbul|    1|    1|    1|      1|          3|   Bombing/Explosion|        1|            Business|    209|           Turkey|             Unknown|         0|        6|   Explosives|                null|    0|        0|  null|\n",
      "| 2000|     1|    1|    185|      Spain|     8|      Western Europe|   Basque Country| Galdacano|    1|    1|    1|      1|          2|       Armed Assault|        4|            Military|    185|            Spain|             Unknown|         0|        8|   Incendiary|36 petrol bombs w...|    0|        0|  null|\n",
      "| 2000|     1|    1|    185|      Spain|     8|      Western Europe|   Basque Country|  Guernica|    1|    1|    1|      1|          2|       Armed Assault|        1|            Business|    185|            Spain|             Unknown|         0|        8|   Incendiary|Petrol bombs were...|    0|        0|  null|\n",
      "| 2000|     1|    1|     19| Bangladesh|     6|          South Asia|       Chittagong|Chittagong|    1|    1|    1|      1|          2|       Armed Assault|       14|Private Citizens ...|     19|       Bangladesh|             Unknown|         0|        6|   Explosives|Unknown gun types...| null|        0|  null|\n",
      "| 2000|     1|    1|     19| Bangladesh|     6|          South Asia|       Chittagong|Chittagong|    1|    1|    1|      1|          3|   Bombing/Explosion|       14|Private Citizens ...|     19|       Bangladesh|             Unknown|         0|        6|   Explosives|Nine bombs, inclu...| null|        0|  null|\n",
      "| 2000|     1|    1|     19| Bangladesh|     6|          South Asia|       Chittagong|Chittagong|    1|    1|    1|      1|          3|   Bombing/Explosion|       22|Violent Political...|     19|       Bangladesh|             Unknown|         0|        6|   Explosives|                null| null|        0|  null|\n",
      "| 2000|     1|    1|     19| Bangladesh|     6|          South Asia|       Chittagong|Chittagong|    1|    1|    1|      1|          3|   Bombing/Explosion|       14|Private Citizens ...|     19|       Bangladesh|             Unknown|         0|        8|   Incendiary|                null| null|        0|  null|\n",
      "| 2000|     1|    1|     19| Bangladesh|     6|          South Asia|       Chittagong|Chittagong|    1|    1|    1|      1|          2|       Armed Assault|        3|              Police|     19|       Bangladesh|             Unknown|         0|        6|   Explosives|                null|    0|        0|  null|\n",
      "| 2000|     1|    1|     19| Bangladesh|     6|          South Asia|       Chittagong|Chittagong|    1|    1|    1|      1|          3|   Bombing/Explosion|        2|Government (General)|     19|       Bangladesh|             Unknown|         0|        6|   Explosives|                null| null|        0|  null|\n",
      "| 2000|     1|    1|     19| Bangladesh|     6|          South Asia|       Chittagong|Chittagong|    1|    1|    1|      1|          2|       Armed Assault|        3|              Police|     19|       Bangladesh|             Unknown|         0|        6|   Explosives|Bricks were throw...|    0|        0|  null|\n",
      "| 2000|     1|    1|     19| Bangladesh|     6|          South Asia|       Chittagong|Chittagong|    1|    1|    1|      1|          2|       Armed Assault|        2|Government (General)|     19|       Bangladesh|             Unknown|         0|        5|     Firearms|                null|    0|        0|  null|\n",
      "| 2000|     1|    1|     19| Bangladesh|     6|          South Asia|       Chittagong|Chittagong|    1|    1|    1|      1|          3|   Bombing/Explosion|       14|Private Citizens ...|     19|       Bangladesh|             Unknown|         0|        6|   Explosives|                null| null|        0|  null|\n",
      "+-----+------+-----+-------+-----------+------+--------------------+-----------------+----------+-----+-----+-----+-------+-----------+--------------------+---------+--------------------+-------+-----------------+--------------------+----------+---------+-------------+--------------------+-----+---------+------+\n",
      "only showing top 20 rows\n",
      "\n",
      "+-----+------+-----+-------+--------------------+------+--------------------+--------------------+------------------+-----+-----+-----+-------+-----------+--------------------+---------+--------------------+-------+--------------------+--------------------+----------+---------+-------------+--------------------+-----+---------+------+\n",
      "|iyear|imonth|idate|country|         country_txt|region|          region_txt|           provstate|              city|crit1|crit2|crit3|success|attacktype1|     attacktype1_txt|targtype1|       targtype1_txt|natlty1|         natlty1_txt|               gname|individual|weaptype1|weaptype1_txt|          weapdetail|nkill|ishostkid|ransom|\n",
      "+-----+------+-----+-------+--------------------+------+--------------------+--------------------+------------------+-----+-----+-----+-------+-----------+--------------------+---------+--------------------+-------+--------------------+--------------------+----------+---------+-------------+--------------------+-----+---------+------+\n",
      "| 2007|     1|    1|    155|West Bank and Gaz...|    10|Middle East & Nor...|          Gaza Strip|           Unknown|    1|    1|    1|      1|          6|Hostage Taking (K...|       10| Journalists & Media|    159|                Peru|             Unknown|         0|        5|     Firearms|                null|    0|        1|     0|\n",
      "| 2007|     1|    1|    205|            Thailand|     5|      Southeast Asia|Bangkok ( District )|           Bangkok|    1|    1|    1|      1|          3|   Bombing/Explosion|       14|Private Citizens ...|    205|            Thailand|             Unknown|         0|        6|   Explosives|                null|    3|        0|  null|\n",
      "| 2007|     1|    1|    186|           Sri Lanka|     6|          South Asia|            Northern|            Jaffna|    1|    1|    0|      1|          3|   Bombing/Explosion|        4|            Military|    186|           Sri Lanka|Liberation Tigers...|         0|        6|   Explosives|      Claymore mines|    1|        0|  null|\n",
      "| 2007|     1|    1|      4|         Afghanistan|     6|          South Asia|           Nangarhar|            Behsud|    1|    1|    1|      1|          7|Facility/Infrastr...|        8|Educational Insti...|      4|         Afghanistan|             Taliban|         0|        8|   Incendiary|                null|    0|        0|  null|\n",
      "| 2007|     1|    1|    153|            Pakistan|     6|          South Asia|         Balochistan|        Dera Bugti|    1|    1|    1|      1|          3|   Bombing/Explosion|       21|           Utilities|    153|            Pakistan|Baloch Liberation...|         0|        6|   Explosives|Suspects planted ...|    0|        0|  null|\n",
      "| 2007|     1|    1|      4|         Afghanistan|     6|          South Asia|               Herat|             Herat|    1|    1|    1|      1|          3|   Bombing/Explosion|        3|              Police|      4|         Afghanistan|             Taliban|         0|        6|   Explosives|                null|    2|        0|  null|\n",
      "| 2007|     1|    1|    195|               Sudan|    11|  Sub-Saharan Africa|   Eastern Equatoria|             Magwi|    1|    1|    1|      1|          9|             Unknown|       14|Private Citizens ...|    195|               Sudan|Lord's Resistance...|         0|       13|      Unknown|                null|   13|        0|  null|\n",
      "| 2007|     1|    1|    155|West Bank and Gaz...|    10|Middle East & Nor...|          Gaza Strip|              Gaza|    1|    0|    1|      1|          6|Hostage Taking (K...|        2|Government (General)|    155|West Bank and Gaz...|Hamas (Islamic Re...|         0|        5|     Firearms|                null|    0|        1|     0|\n",
      "| 2007|     1|    1|    205|            Thailand|     5|      Southeast Asia|Chaing Mai (Provi...|        Chaing Mai|    1|    1|    1|      1|          3|   Bombing/Explosion|       15|Religious Figures...|    205|            Thailand|             Unknown|         0|        6|   Explosives|                null|    0|        0|  null|\n",
      "| 2007|     1|    1|    186|           Sri Lanka|     6|          South Asia|            Northern|       Cheddikulam|    1|    1|    1|      1|          3|   Bombing/Explosion|        3|              Police|    186|           Sri Lanka|Liberation Tigers...|         0|        6|   Explosives|       Claymore mine|    2|        0|  null|\n",
      "| 2007|     1|    3|    155|West Bank and Gaz...|    10|Middle East & Nor...|          Gaza Strip|        Khan Yunis|    1|    0|    1|      1|          2|       Armed Assault|        2|Government (General)|    155|West Bank and Gaz...|Hamas (Islamic Re...|         0|        5|     Firearms|                null|    5|        0|  null|\n",
      "| 2007|     1|    3|    208|             Tunisia|    10|Middle East & Nor...|     Nabuel (Region)|          Sulayman|    1|    1|    1|      0|          2|       Armed Assault|        3|              Police|    208|             Tunisia|             Unknown|         0|        5|     Firearms|                null|   14|        0|  null|\n",
      "| 2007|     1|    4|      4|         Afghanistan|     6|          South Asia|               Kunar|         Ghaziabad|    1|    1|    1|      1|          3|   Bombing/Explosion|        8|Educational Insti...|      4|         Afghanistan|             Unknown|         0|        6|   Explosives|                null|    0|        0|  null|\n",
      "| 2007|     1|    4|     95|                Iraq|    10|Middle East & Nor...|             Baghdad|           Baghdad|    1|    1|    1|      1|          3|   Bombing/Explosion|       14|Private Citizens ...|     95|                Iraq|             Unknown|         0|        6|   Explosives|                null|   13|        0|  null|\n",
      "| 2007|     1|    5|    160|         Philippines|     5|      Southeast Asia|         Maguindanao|     Cotabato City|    1|    1|    1|      1|          3|   Bombing/Explosion|        1|            Business|    160|         Philippines|Moro Islamic Libe...|         0|        6|   Explosives|The bombs were ma...|    0|        0|  null|\n",
      "| 2007|     1|    5|    186|           Sri Lanka|     6|          South Asia|             Western|        Nittambuwa|    1|    1|    1|      1|          3|   Bombing/Explosion|       19|      Transportation|    186|           Sri Lanka|Liberation Tigers...|         0|        6|   Explosives|Bomb was two-kilo...|    5|        0|  null|\n",
      "| 2007|     1|    5|    147|             Nigeria|    11|  Sub-Saharan Africa|              Rivers|Rumauakunde Emouha|    1|    1|    1|      1|          6|Hostage Taking (K...|        1|            Business|     44|               China|             Unknown|         0|        5|     Firearms|                null|    0|        1|     0|\n",
      "| 2007|     1|    5|     92|               India|     6|          South Asia|               Assam|            Sadiya|    1|    1|    1|      1|          2|       Armed Assault|       14|Private Citizens ...|     92|               India|United Liberation...|         0|        5|     Firearms|                null|   48|        0|  null|\n",
      "| 2007|     1|    5|     95|                Iraq|    10|Middle East & Nor...|               Basra|             Basra|    1|    1|    1|      1|          6|Hostage Taking (K...|        1|            Business|    217|       United States|             Unknown|         0|        5|     Firearms|                null|    3|        1|     0|\n",
      "| 2007|     1|    5|    155|West Bank and Gaz...|    10|Middle East & Nor...|          Gaza Strip|           Unknown|    1|    1|    1|      1|          2|       Armed Assault|       15|Religious Figures...|    155|West Bank and Gaz...|             Unknown|         0|        5|     Firearms|                null|    1|        0|  null|\n",
      "+-----+------+-----+-------+--------------------+------+--------------------+--------------------+------------------+-----+-----+-----+-------+-----------+--------------------+---------+--------------------+-------+--------------------+--------------------+----------+---------+-------------+--------------------+-----+---------+------+\n",
      "only showing top 20 rows\n",
      "\n"
     ]
    }
   ],
   "source": [
    "df1 = spark.read.csv('Dataset_2.csv', header=True, inferSchema=True)\n",
    "df2 = spark.read.csv('Dataset_1.csv', header=True, inferSchema=True)\n",
    "df1.show()\n",
    "df2.show()"
   ]
  },
  {
   "cell_type": "markdown",
   "metadata": {},
   "source": [
    "# Size of Dataframe 1"
   ]
  },
  {
   "cell_type": "code",
   "execution_count": 8,
   "metadata": {},
   "outputs": [
    {
     "data": {
      "text/plain": [
       "27"
      ]
     },
     "execution_count": 8,
     "metadata": {},
     "output_type": "execute_result"
    }
   ],
   "source": [
    "len(df1.columns)"
   ]
  },
  {
   "cell_type": "code",
   "execution_count": 9,
   "metadata": {},
   "outputs": [
    {
     "data": {
      "text/plain": [
       "12273"
      ]
     },
     "execution_count": 9,
     "metadata": {},
     "output_type": "execute_result"
    }
   ],
   "source": [
    "df1.count()"
   ]
  },
  {
   "cell_type": "markdown",
   "metadata": {},
   "source": [
    "# Size of Dataframe 2"
   ]
  },
  {
   "cell_type": "code",
   "execution_count": 10,
   "metadata": {},
   "outputs": [
    {
     "data": {
      "text/plain": [
       "27"
      ]
     },
     "execution_count": 10,
     "metadata": {},
     "output_type": "execute_result"
    }
   ],
   "source": [
    "len(df2.columns)"
   ]
  },
  {
   "cell_type": "code",
   "execution_count": 11,
   "metadata": {},
   "outputs": [
    {
     "data": {
      "text/plain": [
       "99583"
      ]
     },
     "execution_count": 11,
     "metadata": {},
     "output_type": "execute_result"
    }
   ],
   "source": [
    "df2.count()"
   ]
  },
  {
   "cell_type": "markdown",
   "metadata": {},
   "source": [
    "# Importing libraries for better visualisation of dataframes"
   ]
  },
  {
   "cell_type": "code",
   "execution_count": 16,
   "metadata": {},
   "outputs": [],
   "source": [
    "# Import the libraries.\n",
    "import pandas as pd\n",
    "import matplotlib.pyplot as plt\n",
    "import matplotlib.patches as mpatches\n",
    "import numpy as np"
   ]
  },
  {
   "cell_type": "markdown",
   "metadata": {},
   "source": [
    "%%bash\n",
    "pip install seaborn"
   ]
  },
  {
   "cell_type": "code",
   "execution_count": 17,
   "metadata": {},
   "outputs": [
    {
     "ename": "ImportError",
     "evalue": "No module named 'seaborn'",
     "output_type": "error",
     "traceback": [
      "\u001b[0;31m---------------------------------------------------------------------------\u001b[0m",
      "\u001b[0;31mImportError\u001b[0m                               Traceback (most recent call last)",
      "\u001b[0;32m<ipython-input-17-a84c0541e888>\u001b[0m in \u001b[0;36m<module>\u001b[0;34m()\u001b[0m\n\u001b[0;32m----> 1\u001b[0;31m \u001b[0;32mimport\u001b[0m \u001b[0mseaborn\u001b[0m \u001b[0;32mas\u001b[0m \u001b[0msns\u001b[0m\u001b[0;34m\u001b[0m\u001b[0m\n\u001b[0m",
      "\u001b[0;31mImportError\u001b[0m: No module named 'seaborn'"
     ]
    }
   ],
   "source": [
    "import seaborn as sns"
   ]
  },
  {
   "cell_type": "code",
   "execution_count": null,
   "metadata": {},
   "outputs": [],
   "source": []
  }
 ],
 "metadata": {
  "kernelspec": {
   "display_name": "Python 3",
   "language": "python",
   "name": "python3"
  },
  "language_info": {
   "codemirror_mode": {
    "name": "ipython",
    "version": 3
   },
   "file_extension": ".py",
   "mimetype": "text/x-python",
   "name": "python",
   "nbconvert_exporter": "python",
   "pygments_lexer": "ipython3",
   "version": "3.5.2"
  }
 },
 "nbformat": 4,
 "nbformat_minor": 2
}
