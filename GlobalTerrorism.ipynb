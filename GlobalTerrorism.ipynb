{
 "cells": [
  {
   "cell_type": "markdown",
   "metadata": {},
   "source": [
    "# Pyspark"
   ]
  },
  {
   "cell_type": "code",
   "execution_count": 38,
   "metadata": {},
   "outputs": [],
   "source": [
    "# Must be included at the beginning of each new notebook.\n",
    "import findspark\n",
    "findspark.init('/home/ubuntu/spark-2.1.1-bin-hadoop2.7')\n",
    "import pyspark\n",
    "from pyspark.sql import SparkSession\n",
    "spark = SparkSession.builder.appName('GlobalTerrorism').getOrCreate()"
   ]
  },
  {
   "cell_type": "markdown",
   "metadata": {},
   "source": [
    "# Importing Dataset"
   ]
  },
  {
   "cell_type": "code",
   "execution_count": 39,
   "metadata": {},
   "outputs": [
    {
     "name": "stdout",
     "output_type": "stream",
     "text": [
      "+-----+------+-----+-------+-----------+------+--------------------+-----------------+----------+-----+-----+-----+-------+-----------+--------------------+---------+--------------------+-------+-----------------+--------------------+----------+---------+-------------+--------------------+-----+---------+------+\n",
      "|iyear|imonth|idate|country|country_txt|region|          region_txt|        provstate|      city|crit1|crit2|crit3|success|attacktype1|     attacktype1_txt|targtype1|       targtype1_txt|natlty1|      natlty1_txt|               gname|individual|weaptype1|weaptype1_txt|          weapdetail|nkill|ishostkid|ransom|\n",
      "+-----+------+-----+-------+-----------+------+--------------------+-----------------+----------+-----+-----+-----+-------+-----------+--------------------+---------+--------------------+-------+-----------------+--------------------+----------+---------+-------------+--------------------+-----+---------+------+\n",
      "| 2000|     1|    1|    139|    Namibia|    11|  Sub-Saharan Africa|          Kavango|  Muitjiku|    1|    1|    1|      1|          2|       Armed Assault|        1|            Business|    139|          Namibia|National Union fo...|         0|        5|     Firearms|                null|    0|        0|  null|\n",
      "| 2000|     1|    1|    139|    Namibia|    11|  Sub-Saharan Africa|          Kavango|  Muitjiku|    1|    1|    1|      1|          6|Hostage Taking (K...|        1|            Business|    139|          Namibia|National Union fo...|         0|        5|     Firearms|                null|    0|        1|     0|\n",
      "| 2000|     1|    1|     92|      India|     6|          South Asia|Jammu and Kashmir|  Udhampur|    1|    1|    1|      1|          2|       Armed Assault|        3|              Police|     92|            India|Lashkar-e-Taiba (...|         0|        5|     Firearms|A sniper rifle wa...|    1|        0|  null|\n",
      "| 2000|     1|    1|   1003|     Kosovo|     9|      Eastern Europe|Kosovo (Province)|      Peje|    1|    1|    1|      1|          3|   Bombing/Explosion|       14|Private Citizens ...|    103|       Kazakhstan|             Unknown|         0|        6|   Explosives|                null|    0|        0|  null|\n",
      "| 2000|     1|    1|    182|    Somalia|    11|  Sub-Saharan Africa|         Banaadir| Mogadishu|    1|    0|    1|      1|          2|       Armed Assault|       14|Private Citizens ...|    182|          Somalia|             Unknown|         0|        5|     Firearms|                null|    6|        0|  null|\n",
      "| 2000|     1|    1|     19| Bangladesh|     6|          South Asia|       Chittagong|Chittagong|    1|    1|    1|      1|          2|       Armed Assault|       14|Private Citizens ...|     19|       Bangladesh|             Unknown|         0|        6|   Explosives|Unknown gun types...| null|        0|  null|\n",
      "| 2000|     1|    1|     92|      India|     6|          South Asia|            Assam|Kakotibari|    1|    1|    1|      1|          3|   Bombing/Explosion|       21|           Utilities|     92|            India|United Liberation...|         0|        6|   Explosives|                null|    0|        0|  null|\n",
      "| 2000|     1|    1|   1003|     Kosovo|     9|      Eastern Europe|Kosovo (Province)| Gorazhdec|    1|    1|    1|      0|          2|       Armed Assault|       14|Private Citizens ...|    175|Serbia-Montenegro|             Unknown|         0|        5|     Firearms|                null|    0|        0|  null|\n",
      "| 2000|     1|    1|    209|     Turkey|    10|Middle East & Nor...|         Istanbul|  Istanbul|    1|    1|    1|      1|          3|   Bombing/Explosion|        1|            Business|    209|           Turkey|             Unknown|         0|        6|   Explosives|                null|    0|        0|  null|\n",
      "| 2000|     1|    1|    185|      Spain|     8|      Western Europe|   Basque Country| Galdacano|    1|    1|    1|      1|          2|       Armed Assault|        4|            Military|    185|            Spain|             Unknown|         0|        8|   Incendiary|36 petrol bombs w...|    0|        0|  null|\n",
      "| 2000|     1|    1|    185|      Spain|     8|      Western Europe|   Basque Country|  Guernica|    1|    1|    1|      1|          2|       Armed Assault|        1|            Business|    185|            Spain|             Unknown|         0|        8|   Incendiary|Petrol bombs were...|    0|        0|  null|\n",
      "| 2000|     1|    1|     19| Bangladesh|     6|          South Asia|       Chittagong|Chittagong|    1|    1|    1|      1|          2|       Armed Assault|       14|Private Citizens ...|     19|       Bangladesh|             Unknown|         0|        6|   Explosives|Unknown gun types...| null|        0|  null|\n",
      "| 2000|     1|    1|     19| Bangladesh|     6|          South Asia|       Chittagong|Chittagong|    1|    1|    1|      1|          3|   Bombing/Explosion|       14|Private Citizens ...|     19|       Bangladesh|             Unknown|         0|        6|   Explosives|Nine bombs, inclu...| null|        0|  null|\n",
      "| 2000|     1|    1|     19| Bangladesh|     6|          South Asia|       Chittagong|Chittagong|    1|    1|    1|      1|          3|   Bombing/Explosion|       22|Violent Political...|     19|       Bangladesh|             Unknown|         0|        6|   Explosives|                null| null|        0|  null|\n",
      "| 2000|     1|    1|     19| Bangladesh|     6|          South Asia|       Chittagong|Chittagong|    1|    1|    1|      1|          3|   Bombing/Explosion|       14|Private Citizens ...|     19|       Bangladesh|             Unknown|         0|        8|   Incendiary|                null| null|        0|  null|\n",
      "| 2000|     1|    1|     19| Bangladesh|     6|          South Asia|       Chittagong|Chittagong|    1|    1|    1|      1|          2|       Armed Assault|        3|              Police|     19|       Bangladesh|             Unknown|         0|        6|   Explosives|                null|    0|        0|  null|\n",
      "| 2000|     1|    1|     19| Bangladesh|     6|          South Asia|       Chittagong|Chittagong|    1|    1|    1|      1|          3|   Bombing/Explosion|        2|Government (General)|     19|       Bangladesh|             Unknown|         0|        6|   Explosives|                null| null|        0|  null|\n",
      "| 2000|     1|    1|     19| Bangladesh|     6|          South Asia|       Chittagong|Chittagong|    1|    1|    1|      1|          2|       Armed Assault|        3|              Police|     19|       Bangladesh|             Unknown|         0|        6|   Explosives|Bricks were throw...|    0|        0|  null|\n",
      "| 2000|     1|    1|     19| Bangladesh|     6|          South Asia|       Chittagong|Chittagong|    1|    1|    1|      1|          2|       Armed Assault|        2|Government (General)|     19|       Bangladesh|             Unknown|         0|        5|     Firearms|                null|    0|        0|  null|\n",
      "| 2000|     1|    1|     19| Bangladesh|     6|          South Asia|       Chittagong|Chittagong|    1|    1|    1|      1|          3|   Bombing/Explosion|       14|Private Citizens ...|     19|       Bangladesh|             Unknown|         0|        6|   Explosives|                null| null|        0|  null|\n",
      "+-----+------+-----+-------+-----------+------+--------------------+-----------------+----------+-----+-----+-----+-------+-----------+--------------------+---------+--------------------+-------+-----------------+--------------------+----------+---------+-------------+--------------------+-----+---------+------+\n",
      "only showing top 20 rows\n",
      "\n",
      "+-----+------+-----+-------+--------------------+------+--------------------+--------------------+------------------+-----+-----+-----+-------+-----------+--------------------+---------+--------------------+-------+--------------------+--------------------+----------+---------+-------------+--------------------+-----+---------+------+\n",
      "|iyear|imonth|idate|country|         country_txt|region|          region_txt|           provstate|              city|crit1|crit2|crit3|success|attacktype1|     attacktype1_txt|targtype1|       targtype1_txt|natlty1|         natlty1_txt|               gname|individual|weaptype1|weaptype1_txt|          weapdetail|nkill|ishostkid|ransom|\n",
      "+-----+------+-----+-------+--------------------+------+--------------------+--------------------+------------------+-----+-----+-----+-------+-----------+--------------------+---------+--------------------+-------+--------------------+--------------------+----------+---------+-------------+--------------------+-----+---------+------+\n",
      "| 2007|     1|    1|    155|West Bank and Gaz...|    10|Middle East & Nor...|          Gaza Strip|           Unknown|    1|    1|    1|      1|          6|Hostage Taking (K...|       10| Journalists & Media|    159|                Peru|             Unknown|         0|        5|     Firearms|                null|    0|        1|     0|\n",
      "| 2007|     1|    1|    205|            Thailand|     5|      Southeast Asia|Bangkok ( District )|           Bangkok|    1|    1|    1|      1|          3|   Bombing/Explosion|       14|Private Citizens ...|    205|            Thailand|             Unknown|         0|        6|   Explosives|                null|    3|        0|  null|\n",
      "| 2007|     1|    1|    186|           Sri Lanka|     6|          South Asia|            Northern|            Jaffna|    1|    1|    0|      1|          3|   Bombing/Explosion|        4|            Military|    186|           Sri Lanka|Liberation Tigers...|         0|        6|   Explosives|      Claymore mines|    1|        0|  null|\n",
      "| 2007|     1|    1|      4|         Afghanistan|     6|          South Asia|           Nangarhar|            Behsud|    1|    1|    1|      1|          7|Facility/Infrastr...|        8|Educational Insti...|      4|         Afghanistan|             Taliban|         0|        8|   Incendiary|                null|    0|        0|  null|\n",
      "| 2007|     1|    1|    153|            Pakistan|     6|          South Asia|         Balochistan|        Dera Bugti|    1|    1|    1|      1|          3|   Bombing/Explosion|       21|           Utilities|    153|            Pakistan|Baloch Liberation...|         0|        6|   Explosives|Suspects planted ...|    0|        0|  null|\n",
      "| 2007|     1|    1|      4|         Afghanistan|     6|          South Asia|               Herat|             Herat|    1|    1|    1|      1|          3|   Bombing/Explosion|        3|              Police|      4|         Afghanistan|             Taliban|         0|        6|   Explosives|                null|    2|        0|  null|\n",
      "| 2007|     1|    1|    195|               Sudan|    11|  Sub-Saharan Africa|   Eastern Equatoria|             Magwi|    1|    1|    1|      1|          9|             Unknown|       14|Private Citizens ...|    195|               Sudan|Lord's Resistance...|         0|       13|      Unknown|                null|   13|        0|  null|\n",
      "| 2007|     1|    1|    155|West Bank and Gaz...|    10|Middle East & Nor...|          Gaza Strip|              Gaza|    1|    0|    1|      1|          6|Hostage Taking (K...|        2|Government (General)|    155|West Bank and Gaz...|Hamas (Islamic Re...|         0|        5|     Firearms|                null|    0|        1|     0|\n",
      "| 2007|     1|    1|    205|            Thailand|     5|      Southeast Asia|Chaing Mai (Provi...|        Chaing Mai|    1|    1|    1|      1|          3|   Bombing/Explosion|       15|Religious Figures...|    205|            Thailand|             Unknown|         0|        6|   Explosives|                null|    0|        0|  null|\n",
      "| 2007|     1|    1|    186|           Sri Lanka|     6|          South Asia|            Northern|       Cheddikulam|    1|    1|    1|      1|          3|   Bombing/Explosion|        3|              Police|    186|           Sri Lanka|Liberation Tigers...|         0|        6|   Explosives|       Claymore mine|    2|        0|  null|\n",
      "| 2007|     1|    3|    155|West Bank and Gaz...|    10|Middle East & Nor...|          Gaza Strip|        Khan Yunis|    1|    0|    1|      1|          2|       Armed Assault|        2|Government (General)|    155|West Bank and Gaz...|Hamas (Islamic Re...|         0|        5|     Firearms|                null|    5|        0|  null|\n",
      "| 2007|     1|    3|    208|             Tunisia|    10|Middle East & Nor...|     Nabuel (Region)|          Sulayman|    1|    1|    1|      0|          2|       Armed Assault|        3|              Police|    208|             Tunisia|             Unknown|         0|        5|     Firearms|                null|   14|        0|  null|\n",
      "| 2007|     1|    4|      4|         Afghanistan|     6|          South Asia|               Kunar|         Ghaziabad|    1|    1|    1|      1|          3|   Bombing/Explosion|        8|Educational Insti...|      4|         Afghanistan|             Unknown|         0|        6|   Explosives|                null|    0|        0|  null|\n",
      "| 2007|     1|    4|     95|                Iraq|    10|Middle East & Nor...|             Baghdad|           Baghdad|    1|    1|    1|      1|          3|   Bombing/Explosion|       14|Private Citizens ...|     95|                Iraq|             Unknown|         0|        6|   Explosives|                null|   13|        0|  null|\n",
      "| 2007|     1|    5|    160|         Philippines|     5|      Southeast Asia|         Maguindanao|     Cotabato City|    1|    1|    1|      1|          3|   Bombing/Explosion|        1|            Business|    160|         Philippines|Moro Islamic Libe...|         0|        6|   Explosives|The bombs were ma...|    0|        0|  null|\n",
      "| 2007|     1|    5|    186|           Sri Lanka|     6|          South Asia|             Western|        Nittambuwa|    1|    1|    1|      1|          3|   Bombing/Explosion|       19|      Transportation|    186|           Sri Lanka|Liberation Tigers...|         0|        6|   Explosives|Bomb was two-kilo...|    5|        0|  null|\n",
      "| 2007|     1|    5|    147|             Nigeria|    11|  Sub-Saharan Africa|              Rivers|Rumauakunde Emouha|    1|    1|    1|      1|          6|Hostage Taking (K...|        1|            Business|     44|               China|             Unknown|         0|        5|     Firearms|                null|    0|        1|     0|\n",
      "| 2007|     1|    5|     92|               India|     6|          South Asia|               Assam|            Sadiya|    1|    1|    1|      1|          2|       Armed Assault|       14|Private Citizens ...|     92|               India|United Liberation...|         0|        5|     Firearms|                null|   48|        0|  null|\n",
      "| 2007|     1|    5|     95|                Iraq|    10|Middle East & Nor...|               Basra|             Basra|    1|    1|    1|      1|          6|Hostage Taking (K...|        1|            Business|    217|       United States|             Unknown|         0|        5|     Firearms|                null|    3|        1|     0|\n",
      "| 2007|     1|    5|    155|West Bank and Gaz...|    10|Middle East & Nor...|          Gaza Strip|           Unknown|    1|    1|    1|      1|          2|       Armed Assault|       15|Religious Figures...|    155|West Bank and Gaz...|             Unknown|         0|        5|     Firearms|                null|    1|        0|  null|\n",
      "+-----+------+-----+-------+--------------------+------+--------------------+--------------------+------------------+-----+-----+-----+-------+-----------+--------------------+---------+--------------------+-------+--------------------+--------------------+----------+---------+-------------+--------------------+-----+---------+------+\n",
      "only showing top 20 rows\n",
      "\n"
     ]
    }
   ],
   "source": [
    "df1 = spark.read.csv('Dataset_2.csv', header=True, inferSchema=True)\n",
    "df2 = spark.read.csv('Dataset_1.csv', header=True, inferSchema=True)\n",
    "df1.show()\n",
    "df2.show()"
   ]
  },
  {
   "cell_type": "markdown",
   "metadata": {},
   "source": [
    "# Size of Dataframe 1"
   ]
  },
  {
   "cell_type": "code",
   "execution_count": 40,
   "metadata": {},
   "outputs": [
    {
     "data": {
      "text/plain": [
       "27"
      ]
     },
     "execution_count": 40,
     "metadata": {},
     "output_type": "execute_result"
    }
   ],
   "source": [
    "len(df1.columns)"
   ]
  },
  {
   "cell_type": "code",
   "execution_count": 41,
   "metadata": {},
   "outputs": [
    {
     "data": {
      "text/plain": [
       "12273"
      ]
     },
     "execution_count": 41,
     "metadata": {},
     "output_type": "execute_result"
    }
   ],
   "source": [
    "df1.count()"
   ]
  },
  {
   "cell_type": "markdown",
   "metadata": {},
   "source": [
    "# Size of Dataframe 2"
   ]
  },
  {
   "cell_type": "code",
   "execution_count": 42,
   "metadata": {},
   "outputs": [
    {
     "data": {
      "text/plain": [
       "27"
      ]
     },
     "execution_count": 42,
     "metadata": {},
     "output_type": "execute_result"
    }
   ],
   "source": [
    "len(df2.columns)"
   ]
  },
  {
   "cell_type": "code",
   "execution_count": 43,
   "metadata": {},
   "outputs": [
    {
     "data": {
      "text/plain": [
       "99583"
      ]
     },
     "execution_count": 43,
     "metadata": {},
     "output_type": "execute_result"
    }
   ],
   "source": [
    "df2.count()"
   ]
  },
  {
   "cell_type": "markdown",
   "metadata": {},
   "source": [
    "# Merging two datasets"
   ]
  },
  {
   "cell_type": "code",
   "execution_count": 44,
   "metadata": {},
   "outputs": [],
   "source": [
    "terrorismdf = df1.unionAll(df2)"
   ]
  },
  {
   "cell_type": "code",
   "execution_count": 45,
   "metadata": {},
   "outputs": [
    {
     "data": {
      "text/plain": [
       "27"
      ]
     },
     "execution_count": 45,
     "metadata": {},
     "output_type": "execute_result"
    }
   ],
   "source": [
    "len(terrorismdf.columns)"
   ]
  },
  {
   "cell_type": "code",
   "execution_count": 46,
   "metadata": {},
   "outputs": [
    {
     "data": {
      "text/plain": [
       "111856"
      ]
     },
     "execution_count": 46,
     "metadata": {},
     "output_type": "execute_result"
    }
   ],
   "source": [
    "terrorismdf.count()"
   ]
  },
  {
   "cell_type": "markdown",
   "metadata": {},
   "source": [
    "# First row of dataframe 1"
   ]
  },
  {
   "cell_type": "code",
   "execution_count": 47,
   "metadata": {},
   "outputs": [
    {
     "name": "stdout",
     "output_type": "stream",
     "text": [
      "2000\n",
      "1\n",
      "1\n",
      "139\n",
      "Namibia\n",
      "11\n",
      "Sub-Saharan Africa\n",
      "Kavango\n",
      "Muitjiku\n",
      "1\n",
      "1\n",
      "1\n",
      "1\n",
      "2\n",
      "Armed Assault\n",
      "1\n",
      "Business\n",
      "139\n",
      "Namibia\n",
      "National Union for the Total Independence of Angola (UNITA)\n",
      "0\n",
      "5\n",
      "Firearms\n",
      "None\n",
      "0\n",
      "0\n",
      "None\n"
     ]
    }
   ],
   "source": [
    "df1.head()\n",
    "for item in df1.head():\n",
    "    print(item)"
   ]
  },
  {
   "cell_type": "markdown",
   "metadata": {},
   "source": [
    "# First row of dataframe 2"
   ]
  },
  {
   "cell_type": "code",
   "execution_count": 48,
   "metadata": {},
   "outputs": [
    {
     "name": "stdout",
     "output_type": "stream",
     "text": [
      "2007\n",
      "1\n",
      "1\n",
      "155\n",
      "West Bank and Gaza Strip\n",
      "10\n",
      "Middle East & North Africa\n",
      "Gaza Strip\n",
      "Unknown\n",
      "1\n",
      "1\n",
      "1\n",
      "1\n",
      "6\n",
      "Hostage Taking (Kidnapping)\n",
      "10\n",
      "Journalists & Media\n",
      "159\n",
      "Peru\n",
      "Unknown\n",
      "0\n",
      "5\n",
      "Firearms\n",
      "None\n",
      "0\n",
      "1\n",
      "0\n"
     ]
    }
   ],
   "source": [
    "df2.head()\n",
    "for item in df2.head():\n",
    "    print(item)"
   ]
  },
  {
   "cell_type": "markdown",
   "metadata": {},
   "source": [
    "# First row of Merged dataframe"
   ]
  },
  {
   "cell_type": "code",
   "execution_count": 49,
   "metadata": {},
   "outputs": [
    {
     "name": "stdout",
     "output_type": "stream",
     "text": [
      "2000\n",
      "1\n",
      "1\n",
      "139\n",
      "Namibia\n",
      "11\n",
      "Sub-Saharan Africa\n",
      "Kavango\n",
      "Muitjiku\n",
      "1\n",
      "1\n",
      "1\n",
      "1\n",
      "2\n",
      "Armed Assault\n",
      "1\n",
      "Business\n",
      "139\n",
      "Namibia\n",
      "National Union for the Total Independence of Angola (UNITA)\n",
      "0\n",
      "5\n",
      "Firearms\n",
      "None\n",
      "0\n",
      "0\n",
      "None\n"
     ]
    }
   ],
   "source": [
    "terrorismdf.head()\n",
    "for item in terrorismdf.head():\n",
    "    print(item)"
   ]
  },
  {
   "cell_type": "markdown",
   "metadata": {},
   "source": [
    "# Schema"
   ]
  },
  {
   "cell_type": "code",
   "execution_count": 50,
   "metadata": {},
   "outputs": [
    {
     "name": "stdout",
     "output_type": "stream",
     "text": [
      "root\n",
      " |-- iyear: integer (nullable = true)\n",
      " |-- imonth: integer (nullable = true)\n",
      " |-- idate: integer (nullable = true)\n",
      " |-- country: integer (nullable = true)\n",
      " |-- country_txt: string (nullable = true)\n",
      " |-- region: integer (nullable = true)\n",
      " |-- region_txt: string (nullable = true)\n",
      " |-- provstate: string (nullable = true)\n",
      " |-- city: string (nullable = true)\n",
      " |-- crit1: integer (nullable = true)\n",
      " |-- crit2: integer (nullable = true)\n",
      " |-- crit3: integer (nullable = true)\n",
      " |-- success: integer (nullable = true)\n",
      " |-- attacktype1: integer (nullable = true)\n",
      " |-- attacktype1_txt: string (nullable = true)\n",
      " |-- targtype1: integer (nullable = true)\n",
      " |-- targtype1_txt: string (nullable = true)\n",
      " |-- natlty1: integer (nullable = true)\n",
      " |-- natlty1_txt: string (nullable = true)\n",
      " |-- gname: string (nullable = true)\n",
      " |-- individual: integer (nullable = true)\n",
      " |-- weaptype1: integer (nullable = true)\n",
      " |-- weaptype1_txt: string (nullable = true)\n",
      " |-- weapdetail: string (nullable = true)\n",
      " |-- nkill: string (nullable = true)\n",
      " |-- ishostkid: string (nullable = true)\n",
      " |-- ransom: string (nullable = true)\n",
      "\n"
     ]
    }
   ],
   "source": [
    "#idea of what the data looks like\n",
    "terrorismdf.printSchema()"
   ]
  },
  {
   "cell_type": "code",
   "execution_count": 51,
   "metadata": {},
   "outputs": [
    {
     "data": {
      "text/plain": [
       "['iyear',\n",
       " 'imonth',\n",
       " 'idate',\n",
       " 'country',\n",
       " 'country_txt',\n",
       " 'region',\n",
       " 'region_txt',\n",
       " 'provstate',\n",
       " 'city',\n",
       " 'crit1',\n",
       " 'crit2',\n",
       " 'crit3',\n",
       " 'success',\n",
       " 'attacktype1',\n",
       " 'attacktype1_txt',\n",
       " 'targtype1',\n",
       " 'targtype1_txt',\n",
       " 'natlty1',\n",
       " 'natlty1_txt',\n",
       " 'gname',\n",
       " 'individual',\n",
       " 'weaptype1',\n",
       " 'weaptype1_txt',\n",
       " 'weapdetail',\n",
       " 'nkill',\n",
       " 'ishostkid',\n",
       " 'ransom']"
      ]
     },
     "execution_count": 51,
     "metadata": {},
     "output_type": "execute_result"
    }
   ],
   "source": [
    "terrorismdf.columns"
   ]
  },
  {
   "cell_type": "markdown",
   "metadata": {},
   "source": [
    "# Dropping duplicate columns"
   ]
  },
  {
   "cell_type": "code",
   "execution_count": 52,
   "metadata": {},
   "outputs": [
    {
     "data": {
      "text/plain": [
       "['iyear',\n",
       " 'imonth',\n",
       " 'idate',\n",
       " 'country_txt',\n",
       " 'region_txt',\n",
       " 'provstate',\n",
       " 'city',\n",
       " 'attacktype1_txt',\n",
       " 'targtype1_txt',\n",
       " 'natlty1_txt',\n",
       " 'gname',\n",
       " 'individual',\n",
       " 'weaptype1_txt',\n",
       " 'weapdetail',\n",
       " 'ishostkid',\n",
       " 'ransom']"
      ]
     },
     "execution_count": 52,
     "metadata": {},
     "output_type": "execute_result"
    }
   ],
   "source": [
    "#removing the columns which are numerical value of the texts ---> duplicate columns\n",
    "duplicate_columns = ['country', 'region', 'attacktype1', 'targtype1', 'natlty1', 'weaptype1', 'crit1', 'crit2', 'crit3', 'success', 'nkill']\n",
    "terrorismdf = terrorismdf.drop(*duplicate_columns)\n",
    "#columns\n",
    "terrorismdf.columns"
   ]
  },
  {
   "cell_type": "code",
   "execution_count": 53,
   "metadata": {},
   "outputs": [
    {
     "data": {
      "text/plain": [
       "16"
      ]
     },
     "execution_count": 53,
     "metadata": {},
     "output_type": "execute_result"
    }
   ],
   "source": [
    "#Length of terrorismdf columns after dropping the duplicate columns\n",
    "len(terrorismdf.columns)"
   ]
  },
  {
   "cell_type": "code",
   "execution_count": 54,
   "metadata": {},
   "outputs": [
    {
     "data": {
      "text/plain": [
       "111856"
      ]
     },
     "execution_count": 54,
     "metadata": {},
     "output_type": "execute_result"
    }
   ],
   "source": [
    "terrorismdf.count()"
   ]
  },
  {
   "cell_type": "markdown",
   "metadata": {},
   "source": [
    "# Renaming Columns "
   ]
  },
  {
   "cell_type": "code",
   "execution_count": 55,
   "metadata": {},
   "outputs": [
    {
     "data": {
      "text/plain": [
       "['Year',\n",
       " 'Month',\n",
       " 'Date',\n",
       " 'Country',\n",
       " 'Region',\n",
       " 'Province',\n",
       " 'City',\n",
       " 'Attack',\n",
       " 'Target',\n",
       " 'Nationality',\n",
       " 'Group',\n",
       " 'Individual',\n",
       " 'Weapon',\n",
       " 'Weapon Detail',\n",
       " 'Ishostkid',\n",
       " 'Ransom']"
      ]
     },
     "execution_count": 55,
     "metadata": {},
     "output_type": "execute_result"
    }
   ],
   "source": [
    "terrorismdf = terrorismdf.withColumnRenamed('iyear', 'Year')\n",
    "terrorismdf = terrorismdf.withColumnRenamed('imonth', 'Month')\n",
    "terrorismdf = terrorismdf.withColumnRenamed('idate', 'Date')\n",
    "terrorismdf = terrorismdf.withColumnRenamed('country_txt', 'Country')\n",
    "terrorismdf = terrorismdf.withColumnRenamed('region_txt', 'Region')\n",
    "terrorismdf = terrorismdf.withColumnRenamed('provstate', 'Province')\n",
    "terrorismdf = terrorismdf.withColumnRenamed('city', 'City')\n",
    "terrorismdf = terrorismdf.withColumnRenamed('attacktype1_txt', 'Attack')\n",
    "terrorismdf = terrorismdf.withColumnRenamed('targtype1_txt', 'Target')\n",
    "terrorismdf = terrorismdf.withColumnRenamed('natlty1_txt', 'Nationality')\n",
    "terrorismdf = terrorismdf.withColumnRenamed('gname', 'Group')\n",
    "terrorismdf = terrorismdf.withColumnRenamed('individual', 'Individual')\n",
    "terrorismdf = terrorismdf.withColumnRenamed('weaptype1_txt', 'Weapon')\n",
    "terrorismdf = terrorismdf.withColumnRenamed('weapdetail', 'Weapon Detail')\n",
    "terrorismdf = terrorismdf.withColumnRenamed('ishostkid', 'Ishostkid')\n",
    "terrorismdf = terrorismdf.withColumnRenamed('ransom', 'Ransom')\n",
    "terrorismdf.columns"
   ]
  },
  {
   "cell_type": "markdown",
   "metadata": {},
   "source": [
    "# Dealing with Missing Values"
   ]
  },
  {
   "cell_type": "markdown",
   "metadata": {},
   "source": [
    "The below work on missing values are done based on the visualisation done using pandas below. Please refer to the bottom / report for understanding. However, the missing values are handled at the bottom."
   ]
  },
  {
   "cell_type": "code",
   "execution_count": 61,
   "metadata": {},
   "outputs": [
    {
     "data": {
      "text/plain": [
       "['Year',\n",
       " 'Month',\n",
       " 'Date',\n",
       " 'Country',\n",
       " 'Region',\n",
       " 'Province',\n",
       " 'City',\n",
       " 'Attack',\n",
       " 'Target',\n",
       " 'Nationality',\n",
       " 'Group',\n",
       " 'Individual',\n",
       " 'Weapon',\n",
       " 'Ishostkid']"
      ]
     },
     "execution_count": 61,
     "metadata": {},
     "output_type": "execute_result"
    }
   ],
   "source": [
    "#removing ransom column and weapon detail due to too much of missing values\n",
    "\n",
    "terrorismdf = terrorismdf.drop('Ransom')\n",
    "terrorismdf = terrorismdf.drop('Weapon Detail')\n",
    "#columns\n",
    "terrorismdf.columns"
   ]
  },
  {
   "cell_type": "code",
   "execution_count": 62,
   "metadata": {},
   "outputs": [
    {
     "data": {
      "text/plain": [
       "14"
      ]
     },
     "execution_count": 62,
     "metadata": {},
     "output_type": "execute_result"
    }
   ],
   "source": [
    "#Length of terrorismdf columns after dropping the ransom and weapon detail columns\n",
    "len(terrorismdf.columns)"
   ]
  },
  {
   "cell_type": "code",
   "execution_count": 63,
   "metadata": {},
   "outputs": [
    {
     "data": {
      "text/plain": [
       "111856"
      ]
     },
     "execution_count": 63,
     "metadata": {},
     "output_type": "execute_result"
    }
   ],
   "source": [
    "terrorismdf.count()"
   ]
  },
  {
   "cell_type": "markdown",
   "metadata": {},
   "source": [
    "# Importing libraries for better visualisation of dataframes ----- PANDAS"
   ]
  },
  {
   "cell_type": "markdown",
   "metadata": {},
   "source": [
    "The pandas is imported and the datasets are again imported using pandas.\n",
    "This is done to visualise the dataframe and the corresponding data preparation, transformation and cleaning are done in pandas and pyspark dataframes. This is done as pyspark does not facilitate good visualisations"
   ]
  },
  {
   "cell_type": "code",
   "execution_count": 3,
   "metadata": {},
   "outputs": [],
   "source": [
    "# Import the libraries.\n",
    "import pandas as pd\n",
    "import matplotlib.pyplot as plt\n",
    "import matplotlib.patches as mpatches\n",
    "import numpy as np"
   ]
  },
  {
   "cell_type": "code",
   "execution_count": 4,
   "metadata": {},
   "outputs": [
    {
     "name": "stdout",
     "output_type": "stream",
     "text": [
      "(12273, 27)\n",
      "(99583, 27)\n"
     ]
    }
   ],
   "source": [
    "#importing datasets from pandas for visualisation\n",
    "df1_pd = pd.read_csv('Dataset_2.csv')\n",
    "print(df1_pd.shape)\n",
    "df2_pd = pd.read_csv('Dataset_1.csv')\n",
    "print(df2_pd.shape)"
   ]
  },
  {
   "cell_type": "code",
   "execution_count": 5,
   "metadata": {},
   "outputs": [
    {
     "name": "stdout",
     "output_type": "stream",
     "text": [
      "(111856, 27)\n",
      "Index(['iyear', 'imonth', 'idate', 'country', 'country_txt', 'region',\n",
      "       'region_txt', 'provstate', 'city', 'crit1', 'crit2', 'crit3', 'success',\n",
      "       'attacktype1', 'attacktype1_txt', 'targtype1', 'targtype1_txt',\n",
      "       'natlty1', 'natlty1_txt', 'gname', 'individual', 'weaptype1',\n",
      "       'weaptype1_txt', 'weapdetail', 'nkill', 'ishostkid', 'ransom'],\n",
      "      dtype='object')\n"
     ]
    }
   ],
   "source": [
    "#appending the two datasets\n",
    "terrorismdf_pd = df1_pd.append(df2_pd, ignore_index = True)\n",
    "\n",
    "#printing the number of columns and rows\n",
    "print(terrorismdf_pd.shape)\n",
    "\n",
    "#printing the columns name to see how to change the names to relevant names\n",
    "print(terrorismdf_pd.columns)"
   ]
  },
  {
   "cell_type": "code",
   "execution_count": 6,
   "metadata": {},
   "outputs": [
    {
     "data": {
      "text/html": [
       "<div>\n",
       "<style scoped>\n",
       "    .dataframe tbody tr th:only-of-type {\n",
       "        vertical-align: middle;\n",
       "    }\n",
       "\n",
       "    .dataframe tbody tr th {\n",
       "        vertical-align: top;\n",
       "    }\n",
       "\n",
       "    .dataframe thead th {\n",
       "        text-align: right;\n",
       "    }\n",
       "</style>\n",
       "<table border=\"1\" class=\"dataframe\">\n",
       "  <thead>\n",
       "    <tr style=\"text-align: right;\">\n",
       "      <th></th>\n",
       "      <th>iyear</th>\n",
       "      <th>imonth</th>\n",
       "      <th>idate</th>\n",
       "      <th>country</th>\n",
       "      <th>country_txt</th>\n",
       "      <th>region</th>\n",
       "      <th>region_txt</th>\n",
       "      <th>provstate</th>\n",
       "      <th>city</th>\n",
       "      <th>crit1</th>\n",
       "      <th>...</th>\n",
       "      <th>natlty1</th>\n",
       "      <th>natlty1_txt</th>\n",
       "      <th>gname</th>\n",
       "      <th>individual</th>\n",
       "      <th>weaptype1</th>\n",
       "      <th>weaptype1_txt</th>\n",
       "      <th>weapdetail</th>\n",
       "      <th>nkill</th>\n",
       "      <th>ishostkid</th>\n",
       "      <th>ransom</th>\n",
       "    </tr>\n",
       "  </thead>\n",
       "  <tbody>\n",
       "    <tr>\n",
       "      <th>0</th>\n",
       "      <td>2000</td>\n",
       "      <td>1</td>\n",
       "      <td>1</td>\n",
       "      <td>139</td>\n",
       "      <td>Namibia</td>\n",
       "      <td>11</td>\n",
       "      <td>Sub-Saharan Africa</td>\n",
       "      <td>Kavango</td>\n",
       "      <td>Muitjiku</td>\n",
       "      <td>1</td>\n",
       "      <td>...</td>\n",
       "      <td>139.0</td>\n",
       "      <td>Namibia</td>\n",
       "      <td>National Union for the Total Independence of A...</td>\n",
       "      <td>0</td>\n",
       "      <td>5</td>\n",
       "      <td>Firearms</td>\n",
       "      <td>NaN</td>\n",
       "      <td>0.0</td>\n",
       "      <td>0.0</td>\n",
       "      <td>NaN</td>\n",
       "    </tr>\n",
       "    <tr>\n",
       "      <th>1</th>\n",
       "      <td>2000</td>\n",
       "      <td>1</td>\n",
       "      <td>1</td>\n",
       "      <td>139</td>\n",
       "      <td>Namibia</td>\n",
       "      <td>11</td>\n",
       "      <td>Sub-Saharan Africa</td>\n",
       "      <td>Kavango</td>\n",
       "      <td>Muitjiku</td>\n",
       "      <td>1</td>\n",
       "      <td>...</td>\n",
       "      <td>139.0</td>\n",
       "      <td>Namibia</td>\n",
       "      <td>National Union for the Total Independence of A...</td>\n",
       "      <td>0</td>\n",
       "      <td>5</td>\n",
       "      <td>Firearms</td>\n",
       "      <td>NaN</td>\n",
       "      <td>0.0</td>\n",
       "      <td>1.0</td>\n",
       "      <td>0.0</td>\n",
       "    </tr>\n",
       "  </tbody>\n",
       "</table>\n",
       "<p>2 rows × 27 columns</p>\n",
       "</div>"
      ],
      "text/plain": [
       "   iyear  imonth  idate  country country_txt  region          region_txt  \\\n",
       "0   2000       1      1      139     Namibia      11  Sub-Saharan Africa   \n",
       "1   2000       1      1      139     Namibia      11  Sub-Saharan Africa   \n",
       "\n",
       "  provstate      city  crit1  ...    natlty1  natlty1_txt  \\\n",
       "0   Kavango  Muitjiku      1  ...      139.0      Namibia   \n",
       "1   Kavango  Muitjiku      1  ...      139.0      Namibia   \n",
       "\n",
       "                                               gname  individual weaptype1  \\\n",
       "0  National Union for the Total Independence of A...           0         5   \n",
       "1  National Union for the Total Independence of A...           0         5   \n",
       "\n",
       "   weaptype1_txt weapdetail  nkill ishostkid ransom  \n",
       "0       Firearms        NaN    0.0       0.0    NaN  \n",
       "1       Firearms        NaN    0.0       1.0    0.0  \n",
       "\n",
       "[2 rows x 27 columns]"
      ]
     },
     "execution_count": 6,
     "metadata": {},
     "output_type": "execute_result"
    }
   ],
   "source": [
    "df1_pd.head(2)"
   ]
  },
  {
   "cell_type": "code",
   "execution_count": 7,
   "metadata": {},
   "outputs": [
    {
     "data": {
      "text/html": [
       "<div>\n",
       "<style scoped>\n",
       "    .dataframe tbody tr th:only-of-type {\n",
       "        vertical-align: middle;\n",
       "    }\n",
       "\n",
       "    .dataframe tbody tr th {\n",
       "        vertical-align: top;\n",
       "    }\n",
       "\n",
       "    .dataframe thead th {\n",
       "        text-align: right;\n",
       "    }\n",
       "</style>\n",
       "<table border=\"1\" class=\"dataframe\">\n",
       "  <thead>\n",
       "    <tr style=\"text-align: right;\">\n",
       "      <th></th>\n",
       "      <th>iyear</th>\n",
       "      <th>imonth</th>\n",
       "      <th>idate</th>\n",
       "      <th>country</th>\n",
       "      <th>country_txt</th>\n",
       "      <th>region</th>\n",
       "      <th>region_txt</th>\n",
       "      <th>provstate</th>\n",
       "      <th>city</th>\n",
       "      <th>crit1</th>\n",
       "      <th>...</th>\n",
       "      <th>natlty1</th>\n",
       "      <th>natlty1_txt</th>\n",
       "      <th>gname</th>\n",
       "      <th>individual</th>\n",
       "      <th>weaptype1</th>\n",
       "      <th>weaptype1_txt</th>\n",
       "      <th>weapdetail</th>\n",
       "      <th>nkill</th>\n",
       "      <th>ishostkid</th>\n",
       "      <th>ransom</th>\n",
       "    </tr>\n",
       "  </thead>\n",
       "  <tbody>\n",
       "    <tr>\n",
       "      <th>12271</th>\n",
       "      <td>2006</td>\n",
       "      <td>12</td>\n",
       "      <td>31</td>\n",
       "      <td>141</td>\n",
       "      <td>Nepal</td>\n",
       "      <td>6</td>\n",
       "      <td>South Asia</td>\n",
       "      <td>Eastern</td>\n",
       "      <td>Khadgapur</td>\n",
       "      <td>1</td>\n",
       "      <td>...</td>\n",
       "      <td>141.0</td>\n",
       "      <td>Nepal</td>\n",
       "      <td>Janatantrik Terai Mukti Morcha- Jwala Singh (J...</td>\n",
       "      <td>0</td>\n",
       "      <td>9</td>\n",
       "      <td>Melee</td>\n",
       "      <td>The attackers first threw rocks at the vehicle...</td>\n",
       "      <td>0.0</td>\n",
       "      <td>0.0</td>\n",
       "      <td>NaN</td>\n",
       "    </tr>\n",
       "    <tr>\n",
       "      <th>12272</th>\n",
       "      <td>2006</td>\n",
       "      <td>12</td>\n",
       "      <td>31</td>\n",
       "      <td>141</td>\n",
       "      <td>Nepal</td>\n",
       "      <td>6</td>\n",
       "      <td>South Asia</td>\n",
       "      <td>Central</td>\n",
       "      <td>Sundarpur</td>\n",
       "      <td>1</td>\n",
       "      <td>...</td>\n",
       "      <td>141.0</td>\n",
       "      <td>Nepal</td>\n",
       "      <td>Janatantrik Terai Mukti Morcha (JTMM)</td>\n",
       "      <td>0</td>\n",
       "      <td>13</td>\n",
       "      <td>Unknown</td>\n",
       "      <td>NaN</td>\n",
       "      <td>1.0</td>\n",
       "      <td>1.0</td>\n",
       "      <td>0.0</td>\n",
       "    </tr>\n",
       "  </tbody>\n",
       "</table>\n",
       "<p>2 rows × 27 columns</p>\n",
       "</div>"
      ],
      "text/plain": [
       "       iyear  imonth  idate  country country_txt  region  region_txt  \\\n",
       "12271   2006      12     31      141       Nepal       6  South Asia   \n",
       "12272   2006      12     31      141       Nepal       6  South Asia   \n",
       "\n",
       "      provstate       city  crit1  ...    natlty1  natlty1_txt  \\\n",
       "12271   Eastern  Khadgapur      1  ...      141.0        Nepal   \n",
       "12272   Central  Sundarpur      1  ...      141.0        Nepal   \n",
       "\n",
       "                                                   gname  individual  \\\n",
       "12271  Janatantrik Terai Mukti Morcha- Jwala Singh (J...           0   \n",
       "12272              Janatantrik Terai Mukti Morcha (JTMM)           0   \n",
       "\n",
       "      weaptype1  weaptype1_txt  \\\n",
       "12271         9          Melee   \n",
       "12272        13        Unknown   \n",
       "\n",
       "                                              weapdetail  nkill ishostkid  \\\n",
       "12271  The attackers first threw rocks at the vehicle...    0.0       0.0   \n",
       "12272                                                NaN    1.0       1.0   \n",
       "\n",
       "      ransom  \n",
       "12271    NaN  \n",
       "12272    0.0  \n",
       "\n",
       "[2 rows x 27 columns]"
      ]
     },
     "execution_count": 7,
     "metadata": {},
     "output_type": "execute_result"
    }
   ],
   "source": [
    "df1_pd.tail(2)"
   ]
  },
  {
   "cell_type": "code",
   "execution_count": 8,
   "metadata": {},
   "outputs": [
    {
     "data": {
      "text/html": [
       "<div>\n",
       "<style scoped>\n",
       "    .dataframe tbody tr th:only-of-type {\n",
       "        vertical-align: middle;\n",
       "    }\n",
       "\n",
       "    .dataframe tbody tr th {\n",
       "        vertical-align: top;\n",
       "    }\n",
       "\n",
       "    .dataframe thead th {\n",
       "        text-align: right;\n",
       "    }\n",
       "</style>\n",
       "<table border=\"1\" class=\"dataframe\">\n",
       "  <thead>\n",
       "    <tr style=\"text-align: right;\">\n",
       "      <th></th>\n",
       "      <th>iyear</th>\n",
       "      <th>imonth</th>\n",
       "      <th>idate</th>\n",
       "      <th>country</th>\n",
       "      <th>country_txt</th>\n",
       "      <th>region</th>\n",
       "      <th>region_txt</th>\n",
       "      <th>provstate</th>\n",
       "      <th>city</th>\n",
       "      <th>crit1</th>\n",
       "      <th>...</th>\n",
       "      <th>natlty1</th>\n",
       "      <th>natlty1_txt</th>\n",
       "      <th>gname</th>\n",
       "      <th>individual</th>\n",
       "      <th>weaptype1</th>\n",
       "      <th>weaptype1_txt</th>\n",
       "      <th>weapdetail</th>\n",
       "      <th>nkill</th>\n",
       "      <th>ishostkid</th>\n",
       "      <th>ransom</th>\n",
       "    </tr>\n",
       "  </thead>\n",
       "  <tbody>\n",
       "    <tr>\n",
       "      <th>0</th>\n",
       "      <td>2007</td>\n",
       "      <td>1</td>\n",
       "      <td>1</td>\n",
       "      <td>155</td>\n",
       "      <td>West Bank and Gaza Strip</td>\n",
       "      <td>10</td>\n",
       "      <td>Middle East &amp; North Africa</td>\n",
       "      <td>Gaza Strip</td>\n",
       "      <td>Unknown</td>\n",
       "      <td>1</td>\n",
       "      <td>...</td>\n",
       "      <td>159.0</td>\n",
       "      <td>Peru</td>\n",
       "      <td>Unknown</td>\n",
       "      <td>0</td>\n",
       "      <td>5</td>\n",
       "      <td>Firearms</td>\n",
       "      <td>NaN</td>\n",
       "      <td>0.0</td>\n",
       "      <td>1.0</td>\n",
       "      <td>0.0</td>\n",
       "    </tr>\n",
       "    <tr>\n",
       "      <th>1</th>\n",
       "      <td>2007</td>\n",
       "      <td>1</td>\n",
       "      <td>1</td>\n",
       "      <td>205</td>\n",
       "      <td>Thailand</td>\n",
       "      <td>5</td>\n",
       "      <td>Southeast Asia</td>\n",
       "      <td>Bangkok ( District )</td>\n",
       "      <td>Bangkok</td>\n",
       "      <td>1</td>\n",
       "      <td>...</td>\n",
       "      <td>205.0</td>\n",
       "      <td>Thailand</td>\n",
       "      <td>Unknown</td>\n",
       "      <td>0</td>\n",
       "      <td>6</td>\n",
       "      <td>Explosives</td>\n",
       "      <td>NaN</td>\n",
       "      <td>3.0</td>\n",
       "      <td>0.0</td>\n",
       "      <td>NaN</td>\n",
       "    </tr>\n",
       "  </tbody>\n",
       "</table>\n",
       "<p>2 rows × 27 columns</p>\n",
       "</div>"
      ],
      "text/plain": [
       "   iyear  imonth  idate  country               country_txt  region  \\\n",
       "0   2007       1      1      155  West Bank and Gaza Strip      10   \n",
       "1   2007       1      1      205                  Thailand       5   \n",
       "\n",
       "                   region_txt             provstate     city  crit1  ...    \\\n",
       "0  Middle East & North Africa            Gaza Strip  Unknown      1  ...     \n",
       "1              Southeast Asia  Bangkok ( District )  Bangkok      1  ...     \n",
       "\n",
       "   natlty1  natlty1_txt    gname  individual weaptype1  weaptype1_txt  \\\n",
       "0    159.0         Peru  Unknown           0         5       Firearms   \n",
       "1    205.0     Thailand  Unknown           0         6     Explosives   \n",
       "\n",
       "  weapdetail  nkill ishostkid ransom  \n",
       "0        NaN    0.0       1.0    0.0  \n",
       "1        NaN    3.0       0.0    NaN  \n",
       "\n",
       "[2 rows x 27 columns]"
      ]
     },
     "execution_count": 8,
     "metadata": {},
     "output_type": "execute_result"
    }
   ],
   "source": [
    "df2_pd.head(2)"
   ]
  },
  {
   "cell_type": "code",
   "execution_count": 9,
   "metadata": {},
   "outputs": [
    {
     "data": {
      "text/html": [
       "<div>\n",
       "<style scoped>\n",
       "    .dataframe tbody tr th:only-of-type {\n",
       "        vertical-align: middle;\n",
       "    }\n",
       "\n",
       "    .dataframe tbody tr th {\n",
       "        vertical-align: top;\n",
       "    }\n",
       "\n",
       "    .dataframe thead th {\n",
       "        text-align: right;\n",
       "    }\n",
       "</style>\n",
       "<table border=\"1\" class=\"dataframe\">\n",
       "  <thead>\n",
       "    <tr style=\"text-align: right;\">\n",
       "      <th></th>\n",
       "      <th>iyear</th>\n",
       "      <th>imonth</th>\n",
       "      <th>idate</th>\n",
       "      <th>country</th>\n",
       "      <th>country_txt</th>\n",
       "      <th>region</th>\n",
       "      <th>region_txt</th>\n",
       "      <th>provstate</th>\n",
       "      <th>city</th>\n",
       "      <th>crit1</th>\n",
       "      <th>...</th>\n",
       "      <th>natlty1</th>\n",
       "      <th>natlty1_txt</th>\n",
       "      <th>gname</th>\n",
       "      <th>individual</th>\n",
       "      <th>weaptype1</th>\n",
       "      <th>weaptype1_txt</th>\n",
       "      <th>weapdetail</th>\n",
       "      <th>nkill</th>\n",
       "      <th>ishostkid</th>\n",
       "      <th>ransom</th>\n",
       "    </tr>\n",
       "  </thead>\n",
       "  <tbody>\n",
       "    <tr>\n",
       "      <th>99581</th>\n",
       "      <td>2017</td>\n",
       "      <td>12</td>\n",
       "      <td>31</td>\n",
       "      <td>92</td>\n",
       "      <td>India</td>\n",
       "      <td>6</td>\n",
       "      <td>South Asia</td>\n",
       "      <td>Manipur</td>\n",
       "      <td>Imphal</td>\n",
       "      <td>1</td>\n",
       "      <td>...</td>\n",
       "      <td>92.0</td>\n",
       "      <td>India</td>\n",
       "      <td>Unknown</td>\n",
       "      <td>0</td>\n",
       "      <td>6</td>\n",
       "      <td>Explosives</td>\n",
       "      <td>A thrown grenade was used in the attack.</td>\n",
       "      <td>0.0</td>\n",
       "      <td>0.0</td>\n",
       "      <td>NaN</td>\n",
       "    </tr>\n",
       "    <tr>\n",
       "      <th>99582</th>\n",
       "      <td>2017</td>\n",
       "      <td>12</td>\n",
       "      <td>31</td>\n",
       "      <td>160</td>\n",
       "      <td>Philippines</td>\n",
       "      <td>5</td>\n",
       "      <td>Southeast Asia</td>\n",
       "      <td>Maguindanao</td>\n",
       "      <td>Cotabato City</td>\n",
       "      <td>1</td>\n",
       "      <td>...</td>\n",
       "      <td>160.0</td>\n",
       "      <td>Philippines</td>\n",
       "      <td>Unknown</td>\n",
       "      <td>0</td>\n",
       "      <td>6</td>\n",
       "      <td>Explosives</td>\n",
       "      <td>An explosive device containing a detonating co...</td>\n",
       "      <td>0.0</td>\n",
       "      <td>0.0</td>\n",
       "      <td>NaN</td>\n",
       "    </tr>\n",
       "  </tbody>\n",
       "</table>\n",
       "<p>2 rows × 27 columns</p>\n",
       "</div>"
      ],
      "text/plain": [
       "       iyear  imonth  idate  country  country_txt  region      region_txt  \\\n",
       "99581   2017      12     31       92        India       6      South Asia   \n",
       "99582   2017      12     31      160  Philippines       5  Southeast Asia   \n",
       "\n",
       "         provstate           city  crit1  ...    natlty1  natlty1_txt  \\\n",
       "99581      Manipur         Imphal      1  ...       92.0        India   \n",
       "99582  Maguindanao  Cotabato City      1  ...      160.0  Philippines   \n",
       "\n",
       "         gname  individual weaptype1  weaptype1_txt  \\\n",
       "99581  Unknown           0         6     Explosives   \n",
       "99582  Unknown           0         6     Explosives   \n",
       "\n",
       "                                              weapdetail  nkill ishostkid  \\\n",
       "99581           A thrown grenade was used in the attack.    0.0       0.0   \n",
       "99582  An explosive device containing a detonating co...    0.0       0.0   \n",
       "\n",
       "      ransom  \n",
       "99581    NaN  \n",
       "99582    NaN  \n",
       "\n",
       "[2 rows x 27 columns]"
      ]
     },
     "execution_count": 9,
     "metadata": {},
     "output_type": "execute_result"
    }
   ],
   "source": [
    "df2_pd.tail(2)"
   ]
  },
  {
   "cell_type": "code",
   "execution_count": 10,
   "metadata": {},
   "outputs": [
    {
     "data": {
      "text/html": [
       "<div>\n",
       "<style scoped>\n",
       "    .dataframe tbody tr th:only-of-type {\n",
       "        vertical-align: middle;\n",
       "    }\n",
       "\n",
       "    .dataframe tbody tr th {\n",
       "        vertical-align: top;\n",
       "    }\n",
       "\n",
       "    .dataframe thead th {\n",
       "        text-align: right;\n",
       "    }\n",
       "</style>\n",
       "<table border=\"1\" class=\"dataframe\">\n",
       "  <thead>\n",
       "    <tr style=\"text-align: right;\">\n",
       "      <th></th>\n",
       "      <th>iyear</th>\n",
       "      <th>imonth</th>\n",
       "      <th>idate</th>\n",
       "      <th>country</th>\n",
       "      <th>country_txt</th>\n",
       "      <th>region</th>\n",
       "      <th>region_txt</th>\n",
       "      <th>provstate</th>\n",
       "      <th>city</th>\n",
       "      <th>crit1</th>\n",
       "      <th>...</th>\n",
       "      <th>natlty1</th>\n",
       "      <th>natlty1_txt</th>\n",
       "      <th>gname</th>\n",
       "      <th>individual</th>\n",
       "      <th>weaptype1</th>\n",
       "      <th>weaptype1_txt</th>\n",
       "      <th>weapdetail</th>\n",
       "      <th>nkill</th>\n",
       "      <th>ishostkid</th>\n",
       "      <th>ransom</th>\n",
       "    </tr>\n",
       "  </thead>\n",
       "  <tbody>\n",
       "    <tr>\n",
       "      <th>0</th>\n",
       "      <td>2000</td>\n",
       "      <td>1</td>\n",
       "      <td>1</td>\n",
       "      <td>139</td>\n",
       "      <td>Namibia</td>\n",
       "      <td>11</td>\n",
       "      <td>Sub-Saharan Africa</td>\n",
       "      <td>Kavango</td>\n",
       "      <td>Muitjiku</td>\n",
       "      <td>1</td>\n",
       "      <td>...</td>\n",
       "      <td>139.0</td>\n",
       "      <td>Namibia</td>\n",
       "      <td>National Union for the Total Independence of A...</td>\n",
       "      <td>0</td>\n",
       "      <td>5</td>\n",
       "      <td>Firearms</td>\n",
       "      <td>NaN</td>\n",
       "      <td>0.0</td>\n",
       "      <td>0.0</td>\n",
       "      <td>NaN</td>\n",
       "    </tr>\n",
       "    <tr>\n",
       "      <th>1</th>\n",
       "      <td>2000</td>\n",
       "      <td>1</td>\n",
       "      <td>1</td>\n",
       "      <td>139</td>\n",
       "      <td>Namibia</td>\n",
       "      <td>11</td>\n",
       "      <td>Sub-Saharan Africa</td>\n",
       "      <td>Kavango</td>\n",
       "      <td>Muitjiku</td>\n",
       "      <td>1</td>\n",
       "      <td>...</td>\n",
       "      <td>139.0</td>\n",
       "      <td>Namibia</td>\n",
       "      <td>National Union for the Total Independence of A...</td>\n",
       "      <td>0</td>\n",
       "      <td>5</td>\n",
       "      <td>Firearms</td>\n",
       "      <td>NaN</td>\n",
       "      <td>0.0</td>\n",
       "      <td>1.0</td>\n",
       "      <td>0.0</td>\n",
       "    </tr>\n",
       "  </tbody>\n",
       "</table>\n",
       "<p>2 rows × 27 columns</p>\n",
       "</div>"
      ],
      "text/plain": [
       "   iyear  imonth  idate  country country_txt  region          region_txt  \\\n",
       "0   2000       1      1      139     Namibia      11  Sub-Saharan Africa   \n",
       "1   2000       1      1      139     Namibia      11  Sub-Saharan Africa   \n",
       "\n",
       "  provstate      city  crit1  ...    natlty1  natlty1_txt  \\\n",
       "0   Kavango  Muitjiku      1  ...      139.0      Namibia   \n",
       "1   Kavango  Muitjiku      1  ...      139.0      Namibia   \n",
       "\n",
       "                                               gname  individual weaptype1  \\\n",
       "0  National Union for the Total Independence of A...           0         5   \n",
       "1  National Union for the Total Independence of A...           0         5   \n",
       "\n",
       "   weaptype1_txt weapdetail  nkill ishostkid ransom  \n",
       "0       Firearms        NaN    0.0       0.0    NaN  \n",
       "1       Firearms        NaN    0.0       1.0    0.0  \n",
       "\n",
       "[2 rows x 27 columns]"
      ]
     },
     "execution_count": 10,
     "metadata": {},
     "output_type": "execute_result"
    }
   ],
   "source": [
    "terrorismdf_pd.head(2)"
   ]
  },
  {
   "cell_type": "code",
   "execution_count": 11,
   "metadata": {},
   "outputs": [
    {
     "data": {
      "text/html": [
       "<div>\n",
       "<style scoped>\n",
       "    .dataframe tbody tr th:only-of-type {\n",
       "        vertical-align: middle;\n",
       "    }\n",
       "\n",
       "    .dataframe tbody tr th {\n",
       "        vertical-align: top;\n",
       "    }\n",
       "\n",
       "    .dataframe thead th {\n",
       "        text-align: right;\n",
       "    }\n",
       "</style>\n",
       "<table border=\"1\" class=\"dataframe\">\n",
       "  <thead>\n",
       "    <tr style=\"text-align: right;\">\n",
       "      <th></th>\n",
       "      <th>iyear</th>\n",
       "      <th>imonth</th>\n",
       "      <th>idate</th>\n",
       "      <th>country</th>\n",
       "      <th>country_txt</th>\n",
       "      <th>region</th>\n",
       "      <th>region_txt</th>\n",
       "      <th>provstate</th>\n",
       "      <th>city</th>\n",
       "      <th>crit1</th>\n",
       "      <th>...</th>\n",
       "      <th>natlty1</th>\n",
       "      <th>natlty1_txt</th>\n",
       "      <th>gname</th>\n",
       "      <th>individual</th>\n",
       "      <th>weaptype1</th>\n",
       "      <th>weaptype1_txt</th>\n",
       "      <th>weapdetail</th>\n",
       "      <th>nkill</th>\n",
       "      <th>ishostkid</th>\n",
       "      <th>ransom</th>\n",
       "    </tr>\n",
       "  </thead>\n",
       "  <tbody>\n",
       "    <tr>\n",
       "      <th>111854</th>\n",
       "      <td>2017</td>\n",
       "      <td>12</td>\n",
       "      <td>31</td>\n",
       "      <td>92</td>\n",
       "      <td>India</td>\n",
       "      <td>6</td>\n",
       "      <td>South Asia</td>\n",
       "      <td>Manipur</td>\n",
       "      <td>Imphal</td>\n",
       "      <td>1</td>\n",
       "      <td>...</td>\n",
       "      <td>92.0</td>\n",
       "      <td>India</td>\n",
       "      <td>Unknown</td>\n",
       "      <td>0</td>\n",
       "      <td>6</td>\n",
       "      <td>Explosives</td>\n",
       "      <td>A thrown grenade was used in the attack.</td>\n",
       "      <td>0.0</td>\n",
       "      <td>0.0</td>\n",
       "      <td>NaN</td>\n",
       "    </tr>\n",
       "    <tr>\n",
       "      <th>111855</th>\n",
       "      <td>2017</td>\n",
       "      <td>12</td>\n",
       "      <td>31</td>\n",
       "      <td>160</td>\n",
       "      <td>Philippines</td>\n",
       "      <td>5</td>\n",
       "      <td>Southeast Asia</td>\n",
       "      <td>Maguindanao</td>\n",
       "      <td>Cotabato City</td>\n",
       "      <td>1</td>\n",
       "      <td>...</td>\n",
       "      <td>160.0</td>\n",
       "      <td>Philippines</td>\n",
       "      <td>Unknown</td>\n",
       "      <td>0</td>\n",
       "      <td>6</td>\n",
       "      <td>Explosives</td>\n",
       "      <td>An explosive device containing a detonating co...</td>\n",
       "      <td>0.0</td>\n",
       "      <td>0.0</td>\n",
       "      <td>NaN</td>\n",
       "    </tr>\n",
       "  </tbody>\n",
       "</table>\n",
       "<p>2 rows × 27 columns</p>\n",
       "</div>"
      ],
      "text/plain": [
       "        iyear  imonth  idate  country  country_txt  region      region_txt  \\\n",
       "111854   2017      12     31       92        India       6      South Asia   \n",
       "111855   2017      12     31      160  Philippines       5  Southeast Asia   \n",
       "\n",
       "          provstate           city  crit1  ...    natlty1  natlty1_txt  \\\n",
       "111854      Manipur         Imphal      1  ...       92.0        India   \n",
       "111855  Maguindanao  Cotabato City      1  ...      160.0  Philippines   \n",
       "\n",
       "          gname  individual weaptype1  weaptype1_txt  \\\n",
       "111854  Unknown           0         6     Explosives   \n",
       "111855  Unknown           0         6     Explosives   \n",
       "\n",
       "                                               weapdetail  nkill ishostkid  \\\n",
       "111854           A thrown grenade was used in the attack.    0.0       0.0   \n",
       "111855  An explosive device containing a detonating co...    0.0       0.0   \n",
       "\n",
       "       ransom  \n",
       "111854    NaN  \n",
       "111855    NaN  \n",
       "\n",
       "[2 rows x 27 columns]"
      ]
     },
     "execution_count": 11,
     "metadata": {},
     "output_type": "execute_result"
    }
   ],
   "source": [
    "terrorismdf_pd.tail(2)"
   ]
  },
  {
   "cell_type": "markdown",
   "metadata": {},
   "source": [
    "# Initial Exploration and Visualisation "
   ]
  },
  {
   "cell_type": "code",
   "execution_count": 12,
   "metadata": {},
   "outputs": [
    {
     "data": {
      "text/plain": [
       "iyear         -0.003994\n",
       "imonth        -0.000114\n",
       "idate         -0.000245\n",
       "country        1.000000\n",
       "region         0.142450\n",
       "crit1         -0.028539\n",
       "crit2         -0.025207\n",
       "crit3         -0.036414\n",
       "success       -0.024552\n",
       "attacktype1    0.012913\n",
       "targtype1      0.028591\n",
       "natlty1        0.651784\n",
       "individual     0.041537\n",
       "weaptype1      0.002886\n",
       "nkill         -0.000830\n",
       "ishostkid      0.003088\n",
       "ransom         0.014256\n",
       "Name: country, dtype: float64"
      ]
     },
     "execution_count": 12,
     "metadata": {},
     "output_type": "execute_result"
    }
   ],
   "source": [
    "#finding correlation for country\n",
    "terrorismdf_pd.corr()[\"country\"]"
   ]
  },
  {
   "cell_type": "code",
   "execution_count": 13,
   "metadata": {},
   "outputs": [
    {
     "data": {
      "text/plain": [
       "iyear          0.068961\n",
       "imonth         0.011590\n",
       "idate         -0.000096\n",
       "country        0.012913\n",
       "region        -0.014066\n",
       "crit1          0.006579\n",
       "crit2         -0.015658\n",
       "crit3         -0.020647\n",
       "success        0.054709\n",
       "attacktype1    1.000000\n",
       "targtype1      0.031974\n",
       "natlty1        0.014219\n",
       "individual     0.016337\n",
       "weaptype1      0.715719\n",
       "nkill          0.016229\n",
       "ishostkid      0.165597\n",
       "ransom         0.142915\n",
       "Name: attacktype1, dtype: float64"
      ]
     },
     "execution_count": 13,
     "metadata": {},
     "output_type": "execute_result"
    }
   ],
   "source": [
    "#finding correlation for attack type\n",
    "terrorismdf_pd.corr()[\"attacktype1\"]"
   ]
  },
  {
   "cell_type": "code",
   "execution_count": 14,
   "metadata": {},
   "outputs": [
    {
     "name": "stdout",
     "output_type": "stream",
     "text": [
      "Index(['iyear', 'imonth', 'idate', 'country_txt', 'region_txt', 'provstate',\n",
      "       'city', 'attacktype1_txt', 'targtype1_txt', 'natlty1_txt', 'gname',\n",
      "       'individual', 'weaptype1_txt', 'weapdetail', 'ishostkid', 'ransom'],\n",
      "      dtype='object')\n",
      "(111856, 16)\n"
     ]
    }
   ],
   "source": [
    "#removing the columns which are numerical value of the texts ---> duplicate columns\n",
    "duplicate_columns = ['country', 'region', 'attacktype1', 'targtype1', 'natlty1', 'weaptype1', 'crit1', 'crit2', 'crit3', 'success', 'nkill']\n",
    "terrorismdf_pd.drop(duplicate_columns, inplace=True, axis=1)\n",
    "print(terrorismdf_pd.columns)\n",
    "print(terrorismdf_pd.shape)"
   ]
  },
  {
   "cell_type": "code",
   "execution_count": 15,
   "metadata": {},
   "outputs": [
    {
     "data": {
      "text/html": [
       "<div>\n",
       "<style scoped>\n",
       "    .dataframe tbody tr th:only-of-type {\n",
       "        vertical-align: middle;\n",
       "    }\n",
       "\n",
       "    .dataframe tbody tr th {\n",
       "        vertical-align: top;\n",
       "    }\n",
       "\n",
       "    .dataframe thead th {\n",
       "        text-align: right;\n",
       "    }\n",
       "</style>\n",
       "<table border=\"1\" class=\"dataframe\">\n",
       "  <thead>\n",
       "    <tr style=\"text-align: right;\">\n",
       "      <th></th>\n",
       "      <th>Year</th>\n",
       "      <th>Month</th>\n",
       "      <th>Date</th>\n",
       "      <th>Country</th>\n",
       "      <th>Region</th>\n",
       "      <th>Province</th>\n",
       "      <th>City</th>\n",
       "      <th>Attack</th>\n",
       "      <th>Target</th>\n",
       "      <th>Nationality</th>\n",
       "      <th>Group</th>\n",
       "      <th>Individual</th>\n",
       "      <th>Weapon</th>\n",
       "      <th>Weapon Detail</th>\n",
       "      <th>Ishostkid</th>\n",
       "      <th>Ransom</th>\n",
       "    </tr>\n",
       "  </thead>\n",
       "  <tbody>\n",
       "    <tr>\n",
       "      <th>0</th>\n",
       "      <td>2000</td>\n",
       "      <td>1</td>\n",
       "      <td>1</td>\n",
       "      <td>Namibia</td>\n",
       "      <td>Sub-Saharan Africa</td>\n",
       "      <td>Kavango</td>\n",
       "      <td>Muitjiku</td>\n",
       "      <td>Armed Assault</td>\n",
       "      <td>Business</td>\n",
       "      <td>Namibia</td>\n",
       "      <td>National Union for the Total Independence of A...</td>\n",
       "      <td>0</td>\n",
       "      <td>Firearms</td>\n",
       "      <td>NaN</td>\n",
       "      <td>0.0</td>\n",
       "      <td>NaN</td>\n",
       "    </tr>\n",
       "    <tr>\n",
       "      <th>1</th>\n",
       "      <td>2000</td>\n",
       "      <td>1</td>\n",
       "      <td>1</td>\n",
       "      <td>Namibia</td>\n",
       "      <td>Sub-Saharan Africa</td>\n",
       "      <td>Kavango</td>\n",
       "      <td>Muitjiku</td>\n",
       "      <td>Hostage Taking (Kidnapping)</td>\n",
       "      <td>Business</td>\n",
       "      <td>Namibia</td>\n",
       "      <td>National Union for the Total Independence of A...</td>\n",
       "      <td>0</td>\n",
       "      <td>Firearms</td>\n",
       "      <td>NaN</td>\n",
       "      <td>1.0</td>\n",
       "      <td>0.0</td>\n",
       "    </tr>\n",
       "  </tbody>\n",
       "</table>\n",
       "</div>"
      ],
      "text/plain": [
       "   Year  Month  Date  Country              Region Province      City  \\\n",
       "0  2000      1     1  Namibia  Sub-Saharan Africa  Kavango  Muitjiku   \n",
       "1  2000      1     1  Namibia  Sub-Saharan Africa  Kavango  Muitjiku   \n",
       "\n",
       "                        Attack    Target Nationality  \\\n",
       "0                Armed Assault  Business     Namibia   \n",
       "1  Hostage Taking (Kidnapping)  Business     Namibia   \n",
       "\n",
       "                                               Group  Individual    Weapon  \\\n",
       "0  National Union for the Total Independence of A...           0  Firearms   \n",
       "1  National Union for the Total Independence of A...           0  Firearms   \n",
       "\n",
       "  Weapon Detail  Ishostkid  Ransom  \n",
       "0           NaN        0.0     NaN  \n",
       "1           NaN        1.0     0.0  "
      ]
     },
     "execution_count": 15,
     "metadata": {},
     "output_type": "execute_result"
    }
   ],
   "source": [
    "#renaming columns for better understanding\n",
    "terrorismdf_pd.rename(columns = {'iyear':'Year', 'imonth':'Month', 'idate':'Date', 'country_txt':'Country', 'region_txt':'Region', 'provstate':'Province','city':'City','attacktype1_txt':'Attack','targtype1_txt':'Target','natlty1_txt':'Nationality','gname':'Group','individual':'Individual','weaptype1_txt': 'Weapon', 'weapdetail':'Weapon Detail', 'ishostkid':'Ishostkid', 'ransom':'Ransom' },inplace=True)\n",
    "terrorismdf_pd.head(2)"
   ]
  },
  {
   "cell_type": "code",
   "execution_count": 17,
   "metadata": {},
   "outputs": [
    {
     "name": "stdout",
     "output_type": "stream",
     "text": [
      "Index(['Year', 'Month', 'Date', 'Country', 'Region', 'Province', 'City',\n",
      "       'Attack', 'Target', 'Nationality', 'Group', 'Individual', 'Weapon',\n",
      "       'Weapon Detail', 'Ishostkid', 'Ransom'],\n",
      "      dtype='object')\n"
     ]
    }
   ],
   "source": [
    "print(terrorismdf_pd.columns)"
   ]
  },
  {
   "cell_type": "code",
   "execution_count": 18,
   "metadata": {},
   "outputs": [
    {
     "name": "stdout",
     "output_type": "stream",
     "text": [
      "Country with Highest Terrorist Attacks: Iraq\n"
     ]
    }
   ],
   "source": [
    "#Printing the country with highest terrorist Attacks\n",
    "print('Country with Highest Terrorist Attacks:',terrorismdf_pd['Country'].value_counts().index[0])"
   ]
  },
  {
   "cell_type": "code",
   "execution_count": 19,
   "metadata": {},
   "outputs": [
    {
     "name": "stdout",
     "output_type": "stream",
     "text": [
      "Regions with Highest Terrorist Attacks: Middle East & North Africa\n"
     ]
    }
   ],
   "source": [
    "# Printing the Regions with highest Terrorist Attacks \n",
    "print('Regions with Highest Terrorist Attacks:',terrorismdf_pd['Region'].value_counts().index[0])"
   ]
  },
  {
   "cell_type": "markdown",
   "metadata": {},
   "source": [
    "# Attack"
   ]
  },
  {
   "cell_type": "code",
   "execution_count": 20,
   "metadata": {},
   "outputs": [
    {
     "data": {
      "text/plain": [
       "Text(0,0.5,'')"
      ]
     },
     "execution_count": 20,
     "metadata": {},
     "output_type": "execute_result"
    },
    {
     "data": {
      "image/png": "[encoded data removed]",
      "text/plain": [
       "<Figure size 864x720 with 1 Axes>"
      ]
     },
     "metadata": {},
     "output_type": "display_data"
    }
   ],
   "source": [
    "#attack\n",
    "attack = pd.DataFrame(terrorismdf_pd, columns = ['Attack']) \n",
    "count_attack = attack.stack().value_counts()\n",
    "ax = count_attack.plot(kind = 'barh',\n",
    "                              title = 'Attacking Methods by terrorists',\n",
    "                             fontsize=10,  width=0.5,  figsize=(12, 10))\n",
    "ax.set_ylabel('')"
   ]
  },
  {
   "cell_type": "markdown",
   "metadata": {},
   "source": [
    "# Region"
   ]
  },
  {
   "cell_type": "code",
   "execution_count": 21,
   "metadata": {},
   "outputs": [
    {
     "data": {
      "text/plain": [
       "Text(0,0.5,'')"
      ]
     },
     "execution_count": 21,
     "metadata": {},
     "output_type": "execute_result"
    },
    {
     "data": {
      "image/png": "[encoded data removed]",
      "text/plain": [
       "<Figure size 864x720 with 1 Axes>"
      ]
     },
     "metadata": {},
     "output_type": "display_data"
    }
   ],
   "source": [
    "# Region of attack\n",
    "region = pd.DataFrame(terrorismdf_pd, columns = ['Region']) \n",
    "count_region = region.stack().value_counts()\n",
    "ax = count_region.plot(kind = 'bar',\n",
    "                              title = 'Number Of Terrorist Activities By Region',\n",
    "                              fontsize=10,  width=0.5,  figsize=(12, 10))\n",
    "ax.set_ylabel('')"
   ]
  },
  {
   "cell_type": "markdown",
   "metadata": {},
   "source": [
    "# Country"
   ]
  },
  {
   "cell_type": "code",
   "execution_count": 24,
   "metadata": {},
   "outputs": [
    {
     "data": {
      "text/plain": [
       "Text(0,0.5,'')"
      ]
     },
     "execution_count": 24,
     "metadata": {},
     "output_type": "execute_result"
    },
    {
     "data": {
      "image/png": "[encoded data removed]",
      "text/plain": [
       "<Figure size 864x720 with 1 Axes>"
      ]
     },
     "metadata": {},
     "output_type": "display_data"
    }
   ],
   "source": [
    "# country of attack\n",
    "country = pd.DataFrame(terrorismdf_pd, columns = ['Country']) \n",
    "count_country = country.stack().value_counts()[:15]\n",
    "ax = count_country.plot(kind = 'bar',\n",
    "                              title = 'Top Affected Countries',\n",
    "                              fontsize=10,  width=0.5,  figsize=(12, 10))\n",
    "ax.set_ylabel('')"
   ]
  },
  {
   "cell_type": "markdown",
   "metadata": {},
   "source": [
    "# Region Vs Attack type"
   ]
  },
  {
   "cell_type": "code",
   "execution_count": 23,
   "metadata": {},
   "outputs": [
    {
     "data": {
      "image/png": "[encoded data removed]",
      "text/plain": [
       "<Figure size 864x576 with 1 Axes>"
      ]
     },
     "metadata": {},
     "output_type": "display_data"
    }
   ],
   "source": [
    "#Region vs Attack\n",
    "pd.crosstab(terrorismdf_pd.Region,terrorismdf_pd.Attack).plot.barh(stacked=True,width=1)\n",
    "fig=plt.gcf()\n",
    "fig.set_size_inches(12,8)\n",
    "plt.show()"
   ]
  },
  {
   "cell_type": "markdown",
   "metadata": {},
   "source": [
    "# Country Vs Attack type"
   ]
  },
  {
   "cell_type": "code",
   "execution_count": 26,
   "metadata": {},
   "outputs": [
    {
     "name": "stdout",
     "output_type": "stream",
     "text": [
      "Iraq           24475\n",
      "Afghanistan    12607\n",
      "Pakistan       12551\n",
      "India           8918\n",
      "Philippines     4920\n",
      "Somalia         3973\n",
      "Nigeria         3826\n",
      "Thailand        3623\n",
      "Yemen           3240\n",
      "Libya           2235\n",
      "Colombia        2104\n",
      "Syria           2055\n",
      "Egypt           2004\n",
      "Russia          1866\n",
      "Turkey          1803\n",
      "Name: Country, dtype: int64\n"
     ]
    }
   ],
   "source": [
    "#top countries for country wise cross tab\n",
    "topcountries = terrorismdf_pd['Country'].value_counts()[:15]\n",
    "print(topcountries)"
   ]
  },
  {
   "cell_type": "code",
   "execution_count": 27,
   "metadata": {},
   "outputs": [],
   "source": [
    "topcountrieslist = ['Iraq','Afghanistan', 'Pakistan', 'India', 'Philippines', 'Somalia', 'Nigeria', 'Thailand', 'Yemen', 'Libya', 'Colombia', 'Syria', 'Egypt', 'Russia', 'Turkey']"
   ]
  },
  {
   "cell_type": "code",
   "execution_count": 28,
   "metadata": {},
   "outputs": [
    {
     "name": "stdout",
     "output_type": "stream",
     "text": [
      "(111856, 16)\n"
     ]
    }
   ],
   "source": [
    "#dataset for Top countries list\n",
    "topcountriesdf = terrorismdf_pd\n",
    "print(topcountriesdf.shape)"
   ]
  },
  {
   "cell_type": "code",
   "execution_count": 29,
   "metadata": {},
   "outputs": [
    {
     "name": "stdout",
     "output_type": "stream",
     "text": [
      "(90200, 16)\n"
     ]
    }
   ],
   "source": [
    "topcountriesdf = topcountriesdf[topcountriesdf['Country'].isin(topcountrieslist)]\n",
    "print(topcountriesdf.shape)"
   ]
  },
  {
   "cell_type": "code",
   "execution_count": 30,
   "metadata": {},
   "outputs": [
    {
     "data": {
      "image/png": "[encoded data removed]",
      "text/plain": [
       "<Figure size 864x576 with 1 Axes>"
      ]
     },
     "metadata": {},
     "output_type": "display_data"
    }
   ],
   "source": [
    "#Country vs Attack\n",
    "pd.crosstab(topcountriesdf.Country,topcountriesdf.Attack).plot.barh(stacked=True,width=1)\n",
    "fig=plt.gcf()\n",
    "fig.set_size_inches(12,8)\n",
    "plt.show()"
   ]
  },
  {
   "cell_type": "markdown",
   "metadata": {},
   "source": [
    "# Yearly terrorist activity trends in Countries"
   ]
  },
  {
   "cell_type": "code",
   "execution_count": 32,
   "metadata": {},
   "outputs": [
    {
     "data": {
      "image/png": "[encoded data removed]",
      "text/plain": [
       "<Figure size 1296x432 with 1 Axes>"
      ]
     },
     "metadata": {},
     "output_type": "display_data"
    }
   ],
   "source": [
    "#yearly terroris activity trend in countries\n",
    "terrorist_country = pd.crosstab(topcountriesdf.Year,topcountriesdf.Country)\n",
    "terrorist_country.plot()\n",
    "fig=plt.gcf()\n",
    "fig.set_size_inches(18,6)\n",
    "plt.show()"
   ]
  },
  {
   "cell_type": "markdown",
   "metadata": {},
   "source": [
    "# Missing Value Exploration"
   ]
  },
  {
   "cell_type": "code",
   "execution_count": 60,
   "metadata": {},
   "outputs": [
    {
     "name": "stdout",
     "output_type": "stream",
     "text": [
      "Year                  0\n",
      "Month                 0\n",
      "Date                  0\n",
      "Country               0\n",
      "Region                0\n",
      "Province             10\n",
      "City                434\n",
      "Attack                0\n",
      "Target                0\n",
      "Nationality        1116\n",
      "Group                 0\n",
      "Individual            0\n",
      "Weapon                0\n",
      "Weapon Detail     58578\n",
      "Ishostkid             3\n",
      "Ransom           101900\n",
      "dtype: int64\n"
     ]
    }
   ],
   "source": [
    "#Missing value\n",
    "print(terrorismdf_pd.isnull().sum())"
   ]
  },
  {
   "cell_type": "code",
   "execution_count": 66,
   "metadata": {},
   "outputs": [
    {
     "name": "stdout",
     "output_type": "stream",
     "text": [
      "Index(['Year', 'Month', 'Date', 'Country', 'Region', 'Province', 'City',\n",
      "       'Attack', 'Target', 'Nationality', 'Group', 'Individual', 'Weapon',\n",
      "       'Ishostkid'],\n",
      "      dtype='object')\n",
      "Year              0\n",
      "Month             0\n",
      "Date              0\n",
      "Country           0\n",
      "Region            0\n",
      "Province         10\n",
      "City            434\n",
      "Attack            0\n",
      "Target            0\n",
      "Nationality    1116\n",
      "Group             0\n",
      "Individual        0\n",
      "Weapon            0\n",
      "Ishostkid         3\n",
      "dtype: int64\n"
     ]
    }
   ],
   "source": [
    "#Missing value\n",
    "columns_missingvalues = ['Ransom','Weapon Detail']\n",
    "terrorismdf_pd.drop(columns_missingvalues, inplace=True, axis=1)\n",
    "print(terrorismdf_pd.columns)\n",
    "print(terrorismdf_pd.isnull().sum())"
   ]
  },
  {
   "cell_type": "code",
   "execution_count": 72,
   "metadata": {},
   "outputs": [
    {
     "name": "stdout",
     "output_type": "stream",
     "text": [
      "Year           0\n",
      "Month          0\n",
      "Date           0\n",
      "Country        0\n",
      "Region         0\n",
      "Province       0\n",
      "City           0\n",
      "Attack         0\n",
      "Target         0\n",
      "Nationality    0\n",
      "Group          0\n",
      "Individual     0\n",
      "Weapon         0\n",
      "Ishostkid      0\n",
      "dtype: int64\n"
     ]
    }
   ],
   "source": [
    "# fill missing values with mode column values\n",
    "terrorismdf_pd = terrorismdf_pd.fillna(terrorismdf_pd.mode().iloc[0])\n",
    "# count the number of NaN values in each column\n",
    "print(terrorismdf_pd.isnull().sum())"
   ]
  },
  {
   "cell_type": "markdown",
   "metadata": {},
   "source": [
    "# Outliers and Extremes"
   ]
  },
  {
   "cell_type": "code",
   "execution_count": 85,
   "metadata": {},
   "outputs": [
    {
     "data": {
      "text/plain": [
       "<matplotlib.axes._subplots.AxesSubplot at 0x7fd2644335c0>"
      ]
     },
     "execution_count": 85,
     "metadata": {},
     "output_type": "execute_result"
    },
    {
     "data": {
      "image/png": "[encoded data removed]",
      "text/plain": [
       "<Figure size 432x288 with 1 Axes>"
      ]
     },
     "metadata": {},
     "output_type": "display_data"
    }
   ],
   "source": [
    "terrorismdf_pd.boxplot()"
   ]
  },
  {
   "cell_type": "code",
   "execution_count": 86,
   "metadata": {},
   "outputs": [
    {
     "data": {
      "text/plain": [
       "<matplotlib.axes._subplots.AxesSubplot at 0x7fd26440e198>"
      ]
     },
     "execution_count": 86,
     "metadata": {},
     "output_type": "execute_result"
    },
    {
     "data": {
      "image/png": "[encoded data removed]",
      "text/plain": [
       "<Figure size 432x288 with 1 Axes>"
      ]
     },
     "metadata": {},
     "output_type": "display_data"
    }
   ],
   "source": [
    "terrorismdf_pd.boxplot(column = 'Year')"
   ]
  },
  {
   "cell_type": "code",
   "execution_count": 87,
   "metadata": {},
   "outputs": [
    {
     "data": {
      "text/plain": [
       "<matplotlib.axes._subplots.AxesSubplot at 0x7fd2644fb8d0>"
      ]
     },
     "execution_count": 87,
     "metadata": {},
     "output_type": "execute_result"
    },
    {
     "data": {
      "image/png": "[encoded data removed]",
      "text/plain": [
       "<Figure size 432x288 with 1 Axes>"
      ]
     },
     "metadata": {},
     "output_type": "display_data"
    }
   ],
   "source": [
    "terrorismdf_pd.boxplot(column = 'Month')"
   ]
  },
  {
   "cell_type": "code",
   "execution_count": 88,
   "metadata": {},
   "outputs": [
    {
     "data": {
      "text/plain": [
       "<matplotlib.axes._subplots.AxesSubplot at 0x7fd26439d668>"
      ]
     },
     "execution_count": 88,
     "metadata": {},
     "output_type": "execute_result"
    },
    {
     "data": {
      "image/png": "[encoded data removed]",
      "text/plain": [
       "<Figure size 432x288 with 1 Axes>"
      ]
     },
     "metadata": {},
     "output_type": "display_data"
    }
   ],
   "source": [
    "terrorismdf_pd.boxplot(column = 'Date')"
   ]
  },
  {
   "cell_type": "code",
   "execution_count": 89,
   "metadata": {},
   "outputs": [
    {
     "data": {
      "text/plain": [
       "<matplotlib.axes._subplots.AxesSubplot at 0x7fd2644742e8>"
      ]
     },
     "execution_count": 89,
     "metadata": {},
     "output_type": "execute_result"
    },
    {
     "data": {
      "image/png": "[encoded data removed]",
      "text/plain": [
       "<Figure size 432x288 with 1 Axes>"
      ]
     },
     "metadata": {},
     "output_type": "display_data"
    }
   ],
   "source": [
    "terrorismdf_pd.boxplot(column = 'Individual')"
   ]
  },
  {
   "cell_type": "code",
   "execution_count": 90,
   "metadata": {},
   "outputs": [
    {
     "data": {
      "text/plain": [
       "<matplotlib.axes._subplots.AxesSubplot at 0x7fd26a5069b0>"
      ]
     },
     "execution_count": 90,
     "metadata": {},
     "output_type": "execute_result"
    },
    {
     "data": {
      "image/png": "[encoded data removed]",
      "text/plain": [
       "<Figure size 432x288 with 1 Axes>"
      ]
     },
     "metadata": {},
     "output_type": "display_data"
    }
   ],
   "source": [
    "terrorismdf_pd.boxplot(column = 'Ishostkid')"
   ]
  },
  {
   "cell_type": "markdown",
   "metadata": {},
   "source": [
    "# Treating Outliers and Extremes"
   ]
  },
  {
   "cell_type": "code",
   "execution_count": 93,
   "metadata": {},
   "outputs": [],
   "source": [
    "columns = ['Year', 'Month', 'Date','Individual','Ishostkid']\n",
    "for column in columns:\n",
    "    median = terrorismdf_pd.loc[:, column].median()\n",
    "    Q1 = terrorismdf_pd[column].quantile(0.25)\n",
    "    Q3 = terrorismdf_pd[column].quantile(0.75)\n",
    "    IQR = Q3 - Q1\n",
    "    lowerRange = Q1 - 1.5*IQR\n",
    "    upperRange = Q3 + 1.5*IQR\n",
    "    terrorismdf_pd[column] = terrorismdf_pd[column].mask(terrorismdf_pd[column] > upperRange, other=median)\n",
    "    terrorismdf_pd[column] = terrorismdf_pd[column].mask(terrorismdf_pd[column] < lowerRange, other=median)"
   ]
  },
  {
   "cell_type": "code",
   "execution_count": 94,
   "metadata": {},
   "outputs": [
    {
     "data": {
      "text/plain": [
       "<matplotlib.axes._subplots.AxesSubplot at 0x7fd26a44feb8>"
      ]
     },
     "execution_count": 94,
     "metadata": {},
     "output_type": "execute_result"
    },
    {
     "data": {
      "image/png": "[encoded data removed]",
      "text/plain": [
       "<Figure size 432x288 with 1 Axes>"
      ]
     },
     "metadata": {},
     "output_type": "display_data"
    }
   ],
   "source": [
    "terrorismdf_pd.boxplot()"
   ]
  },
  {
   "cell_type": "code",
   "execution_count": 95,
   "metadata": {},
   "outputs": [
    {
     "data": {
      "text/plain": [
       "<matplotlib.axes._subplots.AxesSubplot at 0x7fd26a51cc88>"
      ]
     },
     "execution_count": 95,
     "metadata": {},
     "output_type": "execute_result"
    },
    {
     "data": {
      "image/png": "[encoded data removed]",
      "text/plain": [
       "<Figure size 432x288 with 1 Axes>"
      ]
     },
     "metadata": {},
     "output_type": "display_data"
    }
   ],
   "source": [
    "terrorismdf_pd.boxplot(column = 'Ishostkid')"
   ]
  },
  {
   "cell_type": "code",
   "execution_count": 96,
   "metadata": {},
   "outputs": [
    {
     "data": {
      "text/plain": [
       "<matplotlib.axes._subplots.AxesSubplot at 0x7fd26431ee10>"
      ]
     },
     "execution_count": 96,
     "metadata": {},
     "output_type": "execute_result"
    },
    {
     "data": {
      "image/png": "[encoded data removed]",
      "text/plain": [
       "<Figure size 432x288 with 1 Axes>"
      ]
     },
     "metadata": {},
     "output_type": "display_data"
    }
   ],
   "source": [
    "terrorismdf_pd.boxplot(column = 'Individual')"
   ]
  },
  {
   "cell_type": "code",
   "execution_count": 97,
   "metadata": {},
   "outputs": [
    {
     "data": {
      "text/plain": [
       "<matplotlib.axes._subplots.AxesSubplot at 0x7fd2642de630>"
      ]
     },
     "execution_count": 97,
     "metadata": {},
     "output_type": "execute_result"
    },
    {
     "data": {
      "image/png": "[encoded data removed]",
      "text/plain": [
       "<Figure size 432x288 with 1 Axes>"
      ]
     },
     "metadata": {},
     "output_type": "display_data"
    }
   ],
   "source": [
    "terrorismdf_pd.boxplot(column = 'Year')"
   ]
  },
  {
   "cell_type": "markdown",
   "metadata": {},
   "source": [
    "# Exporting the complete dataset after missing value imputation and treating outliers and extremes"
   ]
  },
  {
   "cell_type": "code",
   "execution_count": 99,
   "metadata": {},
   "outputs": [],
   "source": [
    "clean_data = terrorismdf_pd.to_csv('Complete_dataset.csv', index = None, header=True)"
   ]
  },
  {
   "cell_type": "code",
   "execution_count": null,
   "metadata": {},
   "outputs": [],
   "source": []
  }
 ],
 "metadata": {
  "kernelspec": {
   "display_name": "Python 3",
   "language": "python",
   "name": "python3"
  },
  "language_info": {
   "codemirror_mode": {
    "name": "ipython",
    "version": 3
   },
   "file_extension": ".py",
   "mimetype": "text/x-python",
   "name": "python",
   "nbconvert_exporter": "python",
   "pygments_lexer": "ipython3",
   "version": "3.5.2"
  }
 },
 "nbformat": 4,
 "nbformat_minor": 2
}
