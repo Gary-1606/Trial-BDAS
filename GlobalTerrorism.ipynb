{
 "cells": [
  {
   "cell_type": "markdown",
   "metadata": {},
   "source": [
    "# Pyspark"
   ]
  },
  {
   "cell_type": "code",
   "execution_count": 2,
   "metadata": {},
   "outputs": [],
   "source": [
    "# Must be included at the beginning of each new notebook.\n",
    "import findspark\n",
    "findspark.init('/home/ubuntu/spark-2.1.1-bin-hadoop2.7')\n",
    "import pyspark\n",
    "from pyspark.sql import SparkSession\n",
    "spark = SparkSession.builder.appName('GlobalTerrorism').getOrCreate()"
   ]
  },
  {
   "cell_type": "markdown",
   "metadata": {},
   "source": [
    "# Importing Dataset"
   ]
  },
  {
   "cell_type": "code",
   "execution_count": 3,
   "metadata": {},
   "outputs": [
    {
     "name": "stdout",
     "output_type": "stream",
     "text": [
      "+-----+------+-----+-------+-----------+------+--------------------+-----------------+----------+-----+-----+-----+-------+-----------+--------------------+---------+--------------------+-------+-----------------+--------------------+----------+---------+-------------+--------------------+-----+---------+------+\n",
      "|iyear|imonth|idate|country|country_txt|region|          region_txt|        provstate|      city|crit1|crit2|crit3|success|attacktype1|     attacktype1_txt|targtype1|       targtype1_txt|natlty1|      natlty1_txt|               gname|individual|weaptype1|weaptype1_txt|          weapdetail|nkill|ishostkid|ransom|\n",
      "+-----+------+-----+-------+-----------+------+--------------------+-----------------+----------+-----+-----+-----+-------+-----------+--------------------+---------+--------------------+-------+-----------------+--------------------+----------+---------+-------------+--------------------+-----+---------+------+\n",
      "| 2000|     1|    1|    139|    Namibia|    11|  Sub-Saharan Africa|          Kavango|  Muitjiku|    1|    1|    1|      1|          2|       Armed Assault|        1|            Business|    139|          Namibia|National Union fo...|         0|        5|     Firearms|                null|    0|        0|  null|\n",
      "| 2000|     1|    1|    139|    Namibia|    11|  Sub-Saharan Africa|          Kavango|  Muitjiku|    1|    1|    1|      1|          6|Hostage Taking (K...|        1|            Business|    139|          Namibia|National Union fo...|         0|        5|     Firearms|                null|    0|        1|     0|\n",
      "| 2000|     1|    1|     92|      India|     6|          South Asia|Jammu and Kashmir|  Udhampur|    1|    1|    1|      1|          2|       Armed Assault|        3|              Police|     92|            India|Lashkar-e-Taiba (...|         0|        5|     Firearms|A sniper rifle wa...|    1|        0|  null|\n",
      "| 2000|     1|    1|   1003|     Kosovo|     9|      Eastern Europe|Kosovo (Province)|      Peje|    1|    1|    1|      1|          3|   Bombing/Explosion|       14|Private Citizens ...|    103|       Kazakhstan|             Unknown|         0|        6|   Explosives|                null|    0|        0|  null|\n",
      "| 2000|     1|    1|    182|    Somalia|    11|  Sub-Saharan Africa|         Banaadir| Mogadishu|    1|    0|    1|      1|          2|       Armed Assault|       14|Private Citizens ...|    182|          Somalia|             Unknown|         0|        5|     Firearms|                null|    6|        0|  null|\n",
      "| 2000|     1|    1|     19| Bangladesh|     6|          South Asia|       Chittagong|Chittagong|    1|    1|    1|      1|          2|       Armed Assault|       14|Private Citizens ...|     19|       Bangladesh|             Unknown|         0|        6|   Explosives|Unknown gun types...| null|        0|  null|\n",
      "| 2000|     1|    1|     92|      India|     6|          South Asia|            Assam|Kakotibari|    1|    1|    1|      1|          3|   Bombing/Explosion|       21|           Utilities|     92|            India|United Liberation...|         0|        6|   Explosives|                null|    0|        0|  null|\n",
      "| 2000|     1|    1|   1003|     Kosovo|     9|      Eastern Europe|Kosovo (Province)| Gorazhdec|    1|    1|    1|      0|          2|       Armed Assault|       14|Private Citizens ...|    175|Serbia-Montenegro|             Unknown|         0|        5|     Firearms|                null|    0|        0|  null|\n",
      "| 2000|     1|    1|    209|     Turkey|    10|Middle East & Nor...|         Istanbul|  Istanbul|    1|    1|    1|      1|          3|   Bombing/Explosion|        1|            Business|    209|           Turkey|             Unknown|         0|        6|   Explosives|                null|    0|        0|  null|\n",
      "| 2000|     1|    1|    185|      Spain|     8|      Western Europe|   Basque Country| Galdacano|    1|    1|    1|      1|          2|       Armed Assault|        4|            Military|    185|            Spain|             Unknown|         0|        8|   Incendiary|36 petrol bombs w...|    0|        0|  null|\n",
      "| 2000|     1|    1|    185|      Spain|     8|      Western Europe|   Basque Country|  Guernica|    1|    1|    1|      1|          2|       Armed Assault|        1|            Business|    185|            Spain|             Unknown|         0|        8|   Incendiary|Petrol bombs were...|    0|        0|  null|\n",
      "| 2000|     1|    1|     19| Bangladesh|     6|          South Asia|       Chittagong|Chittagong|    1|    1|    1|      1|          2|       Armed Assault|       14|Private Citizens ...|     19|       Bangladesh|             Unknown|         0|        6|   Explosives|Unknown gun types...| null|        0|  null|\n",
      "| 2000|     1|    1|     19| Bangladesh|     6|          South Asia|       Chittagong|Chittagong|    1|    1|    1|      1|          3|   Bombing/Explosion|       14|Private Citizens ...|     19|       Bangladesh|             Unknown|         0|        6|   Explosives|Nine bombs, inclu...| null|        0|  null|\n",
      "| 2000|     1|    1|     19| Bangladesh|     6|          South Asia|       Chittagong|Chittagong|    1|    1|    1|      1|          3|   Bombing/Explosion|       22|Violent Political...|     19|       Bangladesh|             Unknown|         0|        6|   Explosives|                null| null|        0|  null|\n",
      "| 2000|     1|    1|     19| Bangladesh|     6|          South Asia|       Chittagong|Chittagong|    1|    1|    1|      1|          3|   Bombing/Explosion|       14|Private Citizens ...|     19|       Bangladesh|             Unknown|         0|        8|   Incendiary|                null| null|        0|  null|\n",
      "| 2000|     1|    1|     19| Bangladesh|     6|          South Asia|       Chittagong|Chittagong|    1|    1|    1|      1|          2|       Armed Assault|        3|              Police|     19|       Bangladesh|             Unknown|         0|        6|   Explosives|                null|    0|        0|  null|\n",
      "| 2000|     1|    1|     19| Bangladesh|     6|          South Asia|       Chittagong|Chittagong|    1|    1|    1|      1|          3|   Bombing/Explosion|        2|Government (General)|     19|       Bangladesh|             Unknown|         0|        6|   Explosives|                null| null|        0|  null|\n",
      "| 2000|     1|    1|     19| Bangladesh|     6|          South Asia|       Chittagong|Chittagong|    1|    1|    1|      1|          2|       Armed Assault|        3|              Police|     19|       Bangladesh|             Unknown|         0|        6|   Explosives|Bricks were throw...|    0|        0|  null|\n",
      "| 2000|     1|    1|     19| Bangladesh|     6|          South Asia|       Chittagong|Chittagong|    1|    1|    1|      1|          2|       Armed Assault|        2|Government (General)|     19|       Bangladesh|             Unknown|         0|        5|     Firearms|                null|    0|        0|  null|\n",
      "| 2000|     1|    1|     19| Bangladesh|     6|          South Asia|       Chittagong|Chittagong|    1|    1|    1|      1|          3|   Bombing/Explosion|       14|Private Citizens ...|     19|       Bangladesh|             Unknown|         0|        6|   Explosives|                null| null|        0|  null|\n",
      "+-----+------+-----+-------+-----------+------+--------------------+-----------------+----------+-----+-----+-----+-------+-----------+--------------------+---------+--------------------+-------+-----------------+--------------------+----------+---------+-------------+--------------------+-----+---------+------+\n",
      "only showing top 20 rows\n",
      "\n",
      "+-----+------+-----+-------+--------------------+------+--------------------+--------------------+------------------+-----+-----+-----+-------+-----------+--------------------+---------+--------------------+-------+--------------------+--------------------+----------+---------+-------------+--------------------+-----+---------+------+\n",
      "|iyear|imonth|idate|country|         country_txt|region|          region_txt|           provstate|              city|crit1|crit2|crit3|success|attacktype1|     attacktype1_txt|targtype1|       targtype1_txt|natlty1|         natlty1_txt|               gname|individual|weaptype1|weaptype1_txt|          weapdetail|nkill|ishostkid|ransom|\n",
      "+-----+------+-----+-------+--------------------+------+--------------------+--------------------+------------------+-----+-----+-----+-------+-----------+--------------------+---------+--------------------+-------+--------------------+--------------------+----------+---------+-------------+--------------------+-----+---------+------+\n",
      "| 2007|     1|    1|    155|West Bank and Gaz...|    10|Middle East & Nor...|          Gaza Strip|           Unknown|    1|    1|    1|      1|          6|Hostage Taking (K...|       10| Journalists & Media|    159|                Peru|             Unknown|         0|        5|     Firearms|                null|    0|        1|     0|\n",
      "| 2007|     1|    1|    205|            Thailand|     5|      Southeast Asia|Bangkok ( District )|           Bangkok|    1|    1|    1|      1|          3|   Bombing/Explosion|       14|Private Citizens ...|    205|            Thailand|             Unknown|         0|        6|   Explosives|                null|    3|        0|  null|\n",
      "| 2007|     1|    1|    186|           Sri Lanka|     6|          South Asia|            Northern|            Jaffna|    1|    1|    0|      1|          3|   Bombing/Explosion|        4|            Military|    186|           Sri Lanka|Liberation Tigers...|         0|        6|   Explosives|      Claymore mines|    1|        0|  null|\n",
      "| 2007|     1|    1|      4|         Afghanistan|     6|          South Asia|           Nangarhar|            Behsud|    1|    1|    1|      1|          7|Facility/Infrastr...|        8|Educational Insti...|      4|         Afghanistan|             Taliban|         0|        8|   Incendiary|                null|    0|        0|  null|\n",
      "| 2007|     1|    1|    153|            Pakistan|     6|          South Asia|         Balochistan|        Dera Bugti|    1|    1|    1|      1|          3|   Bombing/Explosion|       21|           Utilities|    153|            Pakistan|Baloch Liberation...|         0|        6|   Explosives|Suspects planted ...|    0|        0|  null|\n",
      "| 2007|     1|    1|      4|         Afghanistan|     6|          South Asia|               Herat|             Herat|    1|    1|    1|      1|          3|   Bombing/Explosion|        3|              Police|      4|         Afghanistan|             Taliban|         0|        6|   Explosives|                null|    2|        0|  null|\n",
      "| 2007|     1|    1|    195|               Sudan|    11|  Sub-Saharan Africa|   Eastern Equatoria|             Magwi|    1|    1|    1|      1|          9|             Unknown|       14|Private Citizens ...|    195|               Sudan|Lord's Resistance...|         0|       13|      Unknown|                null|   13|        0|  null|\n",
      "| 2007|     1|    1|    155|West Bank and Gaz...|    10|Middle East & Nor...|          Gaza Strip|              Gaza|    1|    0|    1|      1|          6|Hostage Taking (K...|        2|Government (General)|    155|West Bank and Gaz...|Hamas (Islamic Re...|         0|        5|     Firearms|                null|    0|        1|     0|\n",
      "| 2007|     1|    1|    205|            Thailand|     5|      Southeast Asia|Chaing Mai (Provi...|        Chaing Mai|    1|    1|    1|      1|          3|   Bombing/Explosion|       15|Religious Figures...|    205|            Thailand|             Unknown|         0|        6|   Explosives|                null|    0|        0|  null|\n",
      "| 2007|     1|    1|    186|           Sri Lanka|     6|          South Asia|            Northern|       Cheddikulam|    1|    1|    1|      1|          3|   Bombing/Explosion|        3|              Police|    186|           Sri Lanka|Liberation Tigers...|         0|        6|   Explosives|       Claymore mine|    2|        0|  null|\n",
      "| 2007|     1|    3|    155|West Bank and Gaz...|    10|Middle East & Nor...|          Gaza Strip|        Khan Yunis|    1|    0|    1|      1|          2|       Armed Assault|        2|Government (General)|    155|West Bank and Gaz...|Hamas (Islamic Re...|         0|        5|     Firearms|                null|    5|        0|  null|\n",
      "| 2007|     1|    3|    208|             Tunisia|    10|Middle East & Nor...|     Nabuel (Region)|          Sulayman|    1|    1|    1|      0|          2|       Armed Assault|        3|              Police|    208|             Tunisia|             Unknown|         0|        5|     Firearms|                null|   14|        0|  null|\n",
      "| 2007|     1|    4|      4|         Afghanistan|     6|          South Asia|               Kunar|         Ghaziabad|    1|    1|    1|      1|          3|   Bombing/Explosion|        8|Educational Insti...|      4|         Afghanistan|             Unknown|         0|        6|   Explosives|                null|    0|        0|  null|\n",
      "| 2007|     1|    4|     95|                Iraq|    10|Middle East & Nor...|             Baghdad|           Baghdad|    1|    1|    1|      1|          3|   Bombing/Explosion|       14|Private Citizens ...|     95|                Iraq|             Unknown|         0|        6|   Explosives|                null|   13|        0|  null|\n",
      "| 2007|     1|    5|    160|         Philippines|     5|      Southeast Asia|         Maguindanao|     Cotabato City|    1|    1|    1|      1|          3|   Bombing/Explosion|        1|            Business|    160|         Philippines|Moro Islamic Libe...|         0|        6|   Explosives|The bombs were ma...|    0|        0|  null|\n",
      "| 2007|     1|    5|    186|           Sri Lanka|     6|          South Asia|             Western|        Nittambuwa|    1|    1|    1|      1|          3|   Bombing/Explosion|       19|      Transportation|    186|           Sri Lanka|Liberation Tigers...|         0|        6|   Explosives|Bomb was two-kilo...|    5|        0|  null|\n",
      "| 2007|     1|    5|    147|             Nigeria|    11|  Sub-Saharan Africa|              Rivers|Rumauakunde Emouha|    1|    1|    1|      1|          6|Hostage Taking (K...|        1|            Business|     44|               China|             Unknown|         0|        5|     Firearms|                null|    0|        1|     0|\n",
      "| 2007|     1|    5|     92|               India|     6|          South Asia|               Assam|            Sadiya|    1|    1|    1|      1|          2|       Armed Assault|       14|Private Citizens ...|     92|               India|United Liberation...|         0|        5|     Firearms|                null|   48|        0|  null|\n",
      "| 2007|     1|    5|     95|                Iraq|    10|Middle East & Nor...|               Basra|             Basra|    1|    1|    1|      1|          6|Hostage Taking (K...|        1|            Business|    217|       United States|             Unknown|         0|        5|     Firearms|                null|    3|        1|     0|\n",
      "| 2007|     1|    5|    155|West Bank and Gaz...|    10|Middle East & Nor...|          Gaza Strip|           Unknown|    1|    1|    1|      1|          2|       Armed Assault|       15|Religious Figures...|    155|West Bank and Gaz...|             Unknown|         0|        5|     Firearms|                null|    1|        0|  null|\n",
      "+-----+------+-----+-------+--------------------+------+--------------------+--------------------+------------------+-----+-----+-----+-------+-----------+--------------------+---------+--------------------+-------+--------------------+--------------------+----------+---------+-------------+--------------------+-----+---------+------+\n",
      "only showing top 20 rows\n",
      "\n"
     ]
    }
   ],
   "source": [
    "df1 = spark.read.csv('Dataset_2.csv', header=True, inferSchema=True)\n",
    "df2 = spark.read.csv('Dataset_1.csv', header=True, inferSchema=True)\n",
    "df1.show()\n",
    "df2.show()"
   ]
  },
  {
   "cell_type": "markdown",
   "metadata": {},
   "source": [
    "# Size of Dataframe 1"
   ]
  },
  {
   "cell_type": "code",
   "execution_count": 4,
   "metadata": {},
   "outputs": [
    {
     "data": {
      "text/plain": [
       "27"
      ]
     },
     "execution_count": 4,
     "metadata": {},
     "output_type": "execute_result"
    }
   ],
   "source": [
    "len(df1.columns)"
   ]
  },
  {
   "cell_type": "code",
   "execution_count": 5,
   "metadata": {},
   "outputs": [
    {
     "data": {
      "text/plain": [
       "12273"
      ]
     },
     "execution_count": 5,
     "metadata": {},
     "output_type": "execute_result"
    }
   ],
   "source": [
    "df1.count()"
   ]
  },
  {
   "cell_type": "markdown",
   "metadata": {},
   "source": [
    "# Size of Dataframe 2"
   ]
  },
  {
   "cell_type": "code",
   "execution_count": 6,
   "metadata": {},
   "outputs": [
    {
     "data": {
      "text/plain": [
       "27"
      ]
     },
     "execution_count": 6,
     "metadata": {},
     "output_type": "execute_result"
    }
   ],
   "source": [
    "len(df2.columns)"
   ]
  },
  {
   "cell_type": "code",
   "execution_count": 7,
   "metadata": {},
   "outputs": [
    {
     "data": {
      "text/plain": [
       "99583"
      ]
     },
     "execution_count": 7,
     "metadata": {},
     "output_type": "execute_result"
    }
   ],
   "source": [
    "df2.count()"
   ]
  },
  {
   "cell_type": "markdown",
   "metadata": {},
   "source": [
    "# Merging two datasets"
   ]
  },
  {
   "cell_type": "code",
   "execution_count": 8,
   "metadata": {},
   "outputs": [],
   "source": [
    "terrorismdf = df1.unionAll(df2)"
   ]
  },
  {
   "cell_type": "code",
   "execution_count": 9,
   "metadata": {},
   "outputs": [
    {
     "data": {
      "text/plain": [
       "27"
      ]
     },
     "execution_count": 9,
     "metadata": {},
     "output_type": "execute_result"
    }
   ],
   "source": [
    "len(terrorismdf.columns)"
   ]
  },
  {
   "cell_type": "code",
   "execution_count": 10,
   "metadata": {},
   "outputs": [
    {
     "data": {
      "text/plain": [
       "111856"
      ]
     },
     "execution_count": 10,
     "metadata": {},
     "output_type": "execute_result"
    }
   ],
   "source": [
    "terrorismdf.count()"
   ]
  },
  {
   "cell_type": "markdown",
   "metadata": {},
   "source": [
    "# First row of dataframe 1"
   ]
  },
  {
   "cell_type": "code",
   "execution_count": 11,
   "metadata": {},
   "outputs": [
    {
     "name": "stdout",
     "output_type": "stream",
     "text": [
      "2000\n",
      "1\n",
      "1\n",
      "139\n",
      "Namibia\n",
      "11\n",
      "Sub-Saharan Africa\n",
      "Kavango\n",
      "Muitjiku\n",
      "1\n",
      "1\n",
      "1\n",
      "1\n",
      "2\n",
      "Armed Assault\n",
      "1\n",
      "Business\n",
      "139\n",
      "Namibia\n",
      "National Union for the Total Independence of Angola (UNITA)\n",
      "0\n",
      "5\n",
      "Firearms\n",
      "None\n",
      "0\n",
      "0\n",
      "None\n"
     ]
    }
   ],
   "source": [
    "df1.head()\n",
    "for item in df1.head():\n",
    "    print(item)"
   ]
  },
  {
   "cell_type": "markdown",
   "metadata": {},
   "source": [
    "# First row of dataframe 2"
   ]
  },
  {
   "cell_type": "code",
   "execution_count": 12,
   "metadata": {},
   "outputs": [
    {
     "name": "stdout",
     "output_type": "stream",
     "text": [
      "2007\n",
      "1\n",
      "1\n",
      "155\n",
      "West Bank and Gaza Strip\n",
      "10\n",
      "Middle East & North Africa\n",
      "Gaza Strip\n",
      "Unknown\n",
      "1\n",
      "1\n",
      "1\n",
      "1\n",
      "6\n",
      "Hostage Taking (Kidnapping)\n",
      "10\n",
      "Journalists & Media\n",
      "159\n",
      "Peru\n",
      "Unknown\n",
      "0\n",
      "5\n",
      "Firearms\n",
      "None\n",
      "0\n",
      "1\n",
      "0\n"
     ]
    }
   ],
   "source": [
    "df2.head()\n",
    "for item in df2.head():\n",
    "    print(item)"
   ]
  },
  {
   "cell_type": "markdown",
   "metadata": {},
   "source": [
    "# First row of Merged dataframe"
   ]
  },
  {
   "cell_type": "code",
   "execution_count": 13,
   "metadata": {},
   "outputs": [
    {
     "name": "stdout",
     "output_type": "stream",
     "text": [
      "2000\n",
      "1\n",
      "1\n",
      "139\n",
      "Namibia\n",
      "11\n",
      "Sub-Saharan Africa\n",
      "Kavango\n",
      "Muitjiku\n",
      "1\n",
      "1\n",
      "1\n",
      "1\n",
      "2\n",
      "Armed Assault\n",
      "1\n",
      "Business\n",
      "139\n",
      "Namibia\n",
      "National Union for the Total Independence of Angola (UNITA)\n",
      "0\n",
      "5\n",
      "Firearms\n",
      "None\n",
      "0\n",
      "0\n",
      "None\n"
     ]
    }
   ],
   "source": [
    "terrorismdf.head()\n",
    "for item in terrorismdf.head():\n",
    "    print(item)"
   ]
  },
  {
   "cell_type": "markdown",
   "metadata": {},
   "source": [
    "# Schema"
   ]
  },
  {
   "cell_type": "code",
   "execution_count": 14,
   "metadata": {},
   "outputs": [
    {
     "name": "stdout",
     "output_type": "stream",
     "text": [
      "root\n",
      " |-- iyear: integer (nullable = true)\n",
      " |-- imonth: integer (nullable = true)\n",
      " |-- idate: integer (nullable = true)\n",
      " |-- country: integer (nullable = true)\n",
      " |-- country_txt: string (nullable = true)\n",
      " |-- region: integer (nullable = true)\n",
      " |-- region_txt: string (nullable = true)\n",
      " |-- provstate: string (nullable = true)\n",
      " |-- city: string (nullable = true)\n",
      " |-- crit1: integer (nullable = true)\n",
      " |-- crit2: integer (nullable = true)\n",
      " |-- crit3: integer (nullable = true)\n",
      " |-- success: integer (nullable = true)\n",
      " |-- attacktype1: integer (nullable = true)\n",
      " |-- attacktype1_txt: string (nullable = true)\n",
      " |-- targtype1: integer (nullable = true)\n",
      " |-- targtype1_txt: string (nullable = true)\n",
      " |-- natlty1: integer (nullable = true)\n",
      " |-- natlty1_txt: string (nullable = true)\n",
      " |-- gname: string (nullable = true)\n",
      " |-- individual: integer (nullable = true)\n",
      " |-- weaptype1: integer (nullable = true)\n",
      " |-- weaptype1_txt: string (nullable = true)\n",
      " |-- weapdetail: string (nullable = true)\n",
      " |-- nkill: string (nullable = true)\n",
      " |-- ishostkid: string (nullable = true)\n",
      " |-- ransom: string (nullable = true)\n",
      "\n"
     ]
    }
   ],
   "source": [
    "#idea of what the data looks like\n",
    "terrorismdf.printSchema()"
   ]
  },
  {
   "cell_type": "code",
   "execution_count": 17,
   "metadata": {},
   "outputs": [
    {
     "data": {
      "text/plain": [
       "['iyear',\n",
       " 'imonth',\n",
       " 'idate',\n",
       " 'country',\n",
       " 'country_txt',\n",
       " 'region',\n",
       " 'region_txt',\n",
       " 'provstate',\n",
       " 'city',\n",
       " 'crit1',\n",
       " 'crit2',\n",
       " 'crit3',\n",
       " 'success',\n",
       " 'attacktype1',\n",
       " 'attacktype1_txt',\n",
       " 'targtype1',\n",
       " 'targtype1_txt',\n",
       " 'natlty1',\n",
       " 'natlty1_txt',\n",
       " 'gname',\n",
       " 'individual',\n",
       " 'weaptype1',\n",
       " 'weaptype1_txt',\n",
       " 'weapdetail',\n",
       " 'nkill',\n",
       " 'ishostkid',\n",
       " 'ransom']"
      ]
     },
     "execution_count": 17,
     "metadata": {},
     "output_type": "execute_result"
    }
   ],
   "source": [
    "terrorismdf.columns"
   ]
  },
  {
   "cell_type": "markdown",
   "metadata": {},
   "source": [
    "# Importing libraries for better visualisation of dataframes"
   ]
  },
  {
   "cell_type": "code",
   "execution_count": 15,
   "metadata": {},
   "outputs": [],
   "source": [
    "# Import the libraries.\n",
    "import pandas as pd\n",
    "import matplotlib.pyplot as plt\n",
    "import matplotlib.patches as mpatches\n",
    "import numpy as np"
   ]
  },
  {
   "cell_type": "code",
   "execution_count": 19,
   "metadata": {},
   "outputs": [
    {
     "name": "stdout",
     "output_type": "stream",
     "text": [
      "(12273, 27)\n",
      "(99583, 27)\n"
     ]
    }
   ],
   "source": [
    "#importing datasets from pandas for visualisation\n",
    "df1_pd = pd.read_csv('Dataset_2.csv')\n",
    "print(df1_pd.shape)\n",
    "df2_pd = pd.read_csv('Dataset_1.csv')\n",
    "print(df2_pd.shape)"
   ]
  },
  {
   "cell_type": "code",
   "execution_count": 21,
   "metadata": {},
   "outputs": [
    {
     "name": "stdout",
     "output_type": "stream",
     "text": [
      "(111856, 27)\n",
      "Index(['iyear', 'imonth', 'idate', 'country', 'country_txt', 'region',\n",
      "       'region_txt', 'provstate', 'city', 'crit1', 'crit2', 'crit3', 'success',\n",
      "       'attacktype1', 'attacktype1_txt', 'targtype1', 'targtype1_txt',\n",
      "       'natlty1', 'natlty1_txt', 'gname', 'individual', 'weaptype1',\n",
      "       'weaptype1_txt', 'weapdetail', 'nkill', 'ishostkid', 'ransom'],\n",
      "      dtype='object')\n"
     ]
    }
   ],
   "source": [
    "#appending the two datasets\n",
    "terrorismdf_pd = df1_pd.append(df2_pd, ignore_index = True)\n",
    "\n",
    "#printing the number of columns and rows\n",
    "print(terrorismdf_pd.shape)\n",
    "\n",
    "#printing the columns name to see how to change the names to relevant names\n",
    "print(terrorismdf_pd.columns)"
   ]
  },
  {
   "cell_type": "code",
   "execution_count": 22,
   "metadata": {},
   "outputs": [
    {
     "data": {
      "text/html": [
       "<div>\n",
       "<style scoped>\n",
       "    .dataframe tbody tr th:only-of-type {\n",
       "        vertical-align: middle;\n",
       "    }\n",
       "\n",
       "    .dataframe tbody tr th {\n",
       "        vertical-align: top;\n",
       "    }\n",
       "\n",
       "    .dataframe thead th {\n",
       "        text-align: right;\n",
       "    }\n",
       "</style>\n",
       "<table border=\"1\" class=\"dataframe\">\n",
       "  <thead>\n",
       "    <tr style=\"text-align: right;\">\n",
       "      <th></th>\n",
       "      <th>iyear</th>\n",
       "      <th>imonth</th>\n",
       "      <th>idate</th>\n",
       "      <th>country</th>\n",
       "      <th>country_txt</th>\n",
       "      <th>region</th>\n",
       "      <th>region_txt</th>\n",
       "      <th>provstate</th>\n",
       "      <th>city</th>\n",
       "      <th>crit1</th>\n",
       "      <th>...</th>\n",
       "      <th>natlty1</th>\n",
       "      <th>natlty1_txt</th>\n",
       "      <th>gname</th>\n",
       "      <th>individual</th>\n",
       "      <th>weaptype1</th>\n",
       "      <th>weaptype1_txt</th>\n",
       "      <th>weapdetail</th>\n",
       "      <th>nkill</th>\n",
       "      <th>ishostkid</th>\n",
       "      <th>ransom</th>\n",
       "    </tr>\n",
       "  </thead>\n",
       "  <tbody>\n",
       "    <tr>\n",
       "      <th>0</th>\n",
       "      <td>2000</td>\n",
       "      <td>1</td>\n",
       "      <td>1</td>\n",
       "      <td>139</td>\n",
       "      <td>Namibia</td>\n",
       "      <td>11</td>\n",
       "      <td>Sub-Saharan Africa</td>\n",
       "      <td>Kavango</td>\n",
       "      <td>Muitjiku</td>\n",
       "      <td>1</td>\n",
       "      <td>...</td>\n",
       "      <td>139.0</td>\n",
       "      <td>Namibia</td>\n",
       "      <td>National Union for the Total Independence of A...</td>\n",
       "      <td>0</td>\n",
       "      <td>5</td>\n",
       "      <td>Firearms</td>\n",
       "      <td>NaN</td>\n",
       "      <td>0.0</td>\n",
       "      <td>0.0</td>\n",
       "      <td>NaN</td>\n",
       "    </tr>\n",
       "    <tr>\n",
       "      <th>1</th>\n",
       "      <td>2000</td>\n",
       "      <td>1</td>\n",
       "      <td>1</td>\n",
       "      <td>139</td>\n",
       "      <td>Namibia</td>\n",
       "      <td>11</td>\n",
       "      <td>Sub-Saharan Africa</td>\n",
       "      <td>Kavango</td>\n",
       "      <td>Muitjiku</td>\n",
       "      <td>1</td>\n",
       "      <td>...</td>\n",
       "      <td>139.0</td>\n",
       "      <td>Namibia</td>\n",
       "      <td>National Union for the Total Independence of A...</td>\n",
       "      <td>0</td>\n",
       "      <td>5</td>\n",
       "      <td>Firearms</td>\n",
       "      <td>NaN</td>\n",
       "      <td>0.0</td>\n",
       "      <td>1.0</td>\n",
       "      <td>0.0</td>\n",
       "    </tr>\n",
       "  </tbody>\n",
       "</table>\n",
       "<p>2 rows × 27 columns</p>\n",
       "</div>"
      ],
      "text/plain": [
       "   iyear  imonth  idate  country country_txt  region          region_txt  \\\n",
       "0   2000       1      1      139     Namibia      11  Sub-Saharan Africa   \n",
       "1   2000       1      1      139     Namibia      11  Sub-Saharan Africa   \n",
       "\n",
       "  provstate      city  crit1  ...    natlty1  natlty1_txt  \\\n",
       "0   Kavango  Muitjiku      1  ...      139.0      Namibia   \n",
       "1   Kavango  Muitjiku      1  ...      139.0      Namibia   \n",
       "\n",
       "                                               gname  individual weaptype1  \\\n",
       "0  National Union for the Total Independence of A...           0         5   \n",
       "1  National Union for the Total Independence of A...           0         5   \n",
       "\n",
       "   weaptype1_txt weapdetail  nkill ishostkid ransom  \n",
       "0       Firearms        NaN    0.0       0.0    NaN  \n",
       "1       Firearms        NaN    0.0       1.0    0.0  \n",
       "\n",
       "[2 rows x 27 columns]"
      ]
     },
     "execution_count": 22,
     "metadata": {},
     "output_type": "execute_result"
    }
   ],
   "source": [
    "df1_pd.head(2)"
   ]
  },
  {
   "cell_type": "code",
   "execution_count": 23,
   "metadata": {},
   "outputs": [
    {
     "data": {
      "text/html": [
       "<div>\n",
       "<style scoped>\n",
       "    .dataframe tbody tr th:only-of-type {\n",
       "        vertical-align: middle;\n",
       "    }\n",
       "\n",
       "    .dataframe tbody tr th {\n",
       "        vertical-align: top;\n",
       "    }\n",
       "\n",
       "    .dataframe thead th {\n",
       "        text-align: right;\n",
       "    }\n",
       "</style>\n",
       "<table border=\"1\" class=\"dataframe\">\n",
       "  <thead>\n",
       "    <tr style=\"text-align: right;\">\n",
       "      <th></th>\n",
       "      <th>iyear</th>\n",
       "      <th>imonth</th>\n",
       "      <th>idate</th>\n",
       "      <th>country</th>\n",
       "      <th>country_txt</th>\n",
       "      <th>region</th>\n",
       "      <th>region_txt</th>\n",
       "      <th>provstate</th>\n",
       "      <th>city</th>\n",
       "      <th>crit1</th>\n",
       "      <th>...</th>\n",
       "      <th>natlty1</th>\n",
       "      <th>natlty1_txt</th>\n",
       "      <th>gname</th>\n",
       "      <th>individual</th>\n",
       "      <th>weaptype1</th>\n",
       "      <th>weaptype1_txt</th>\n",
       "      <th>weapdetail</th>\n",
       "      <th>nkill</th>\n",
       "      <th>ishostkid</th>\n",
       "      <th>ransom</th>\n",
       "    </tr>\n",
       "  </thead>\n",
       "  <tbody>\n",
       "    <tr>\n",
       "      <th>12271</th>\n",
       "      <td>2006</td>\n",
       "      <td>12</td>\n",
       "      <td>31</td>\n",
       "      <td>141</td>\n",
       "      <td>Nepal</td>\n",
       "      <td>6</td>\n",
       "      <td>South Asia</td>\n",
       "      <td>Eastern</td>\n",
       "      <td>Khadgapur</td>\n",
       "      <td>1</td>\n",
       "      <td>...</td>\n",
       "      <td>141.0</td>\n",
       "      <td>Nepal</td>\n",
       "      <td>Janatantrik Terai Mukti Morcha- Jwala Singh (J...</td>\n",
       "      <td>0</td>\n",
       "      <td>9</td>\n",
       "      <td>Melee</td>\n",
       "      <td>The attackers first threw rocks at the vehicle...</td>\n",
       "      <td>0.0</td>\n",
       "      <td>0.0</td>\n",
       "      <td>NaN</td>\n",
       "    </tr>\n",
       "    <tr>\n",
       "      <th>12272</th>\n",
       "      <td>2006</td>\n",
       "      <td>12</td>\n",
       "      <td>31</td>\n",
       "      <td>141</td>\n",
       "      <td>Nepal</td>\n",
       "      <td>6</td>\n",
       "      <td>South Asia</td>\n",
       "      <td>Central</td>\n",
       "      <td>Sundarpur</td>\n",
       "      <td>1</td>\n",
       "      <td>...</td>\n",
       "      <td>141.0</td>\n",
       "      <td>Nepal</td>\n",
       "      <td>Janatantrik Terai Mukti Morcha (JTMM)</td>\n",
       "      <td>0</td>\n",
       "      <td>13</td>\n",
       "      <td>Unknown</td>\n",
       "      <td>NaN</td>\n",
       "      <td>1.0</td>\n",
       "      <td>1.0</td>\n",
       "      <td>0.0</td>\n",
       "    </tr>\n",
       "  </tbody>\n",
       "</table>\n",
       "<p>2 rows × 27 columns</p>\n",
       "</div>"
      ],
      "text/plain": [
       "       iyear  imonth  idate  country country_txt  region  region_txt  \\\n",
       "12271   2006      12     31      141       Nepal       6  South Asia   \n",
       "12272   2006      12     31      141       Nepal       6  South Asia   \n",
       "\n",
       "      provstate       city  crit1  ...    natlty1  natlty1_txt  \\\n",
       "12271   Eastern  Khadgapur      1  ...      141.0        Nepal   \n",
       "12272   Central  Sundarpur      1  ...      141.0        Nepal   \n",
       "\n",
       "                                                   gname  individual  \\\n",
       "12271  Janatantrik Terai Mukti Morcha- Jwala Singh (J...           0   \n",
       "12272              Janatantrik Terai Mukti Morcha (JTMM)           0   \n",
       "\n",
       "      weaptype1  weaptype1_txt  \\\n",
       "12271         9          Melee   \n",
       "12272        13        Unknown   \n",
       "\n",
       "                                              weapdetail  nkill ishostkid  \\\n",
       "12271  The attackers first threw rocks at the vehicle...    0.0       0.0   \n",
       "12272                                                NaN    1.0       1.0   \n",
       "\n",
       "      ransom  \n",
       "12271    NaN  \n",
       "12272    0.0  \n",
       "\n",
       "[2 rows x 27 columns]"
      ]
     },
     "execution_count": 23,
     "metadata": {},
     "output_type": "execute_result"
    }
   ],
   "source": [
    "df1_pd.tail(2)"
   ]
  },
  {
   "cell_type": "code",
   "execution_count": 24,
   "metadata": {},
   "outputs": [
    {
     "data": {
      "text/html": [
       "<div>\n",
       "<style scoped>\n",
       "    .dataframe tbody tr th:only-of-type {\n",
       "        vertical-align: middle;\n",
       "    }\n",
       "\n",
       "    .dataframe tbody tr th {\n",
       "        vertical-align: top;\n",
       "    }\n",
       "\n",
       "    .dataframe thead th {\n",
       "        text-align: right;\n",
       "    }\n",
       "</style>\n",
       "<table border=\"1\" class=\"dataframe\">\n",
       "  <thead>\n",
       "    <tr style=\"text-align: right;\">\n",
       "      <th></th>\n",
       "      <th>iyear</th>\n",
       "      <th>imonth</th>\n",
       "      <th>idate</th>\n",
       "      <th>country</th>\n",
       "      <th>country_txt</th>\n",
       "      <th>region</th>\n",
       "      <th>region_txt</th>\n",
       "      <th>provstate</th>\n",
       "      <th>city</th>\n",
       "      <th>crit1</th>\n",
       "      <th>...</th>\n",
       "      <th>natlty1</th>\n",
       "      <th>natlty1_txt</th>\n",
       "      <th>gname</th>\n",
       "      <th>individual</th>\n",
       "      <th>weaptype1</th>\n",
       "      <th>weaptype1_txt</th>\n",
       "      <th>weapdetail</th>\n",
       "      <th>nkill</th>\n",
       "      <th>ishostkid</th>\n",
       "      <th>ransom</th>\n",
       "    </tr>\n",
       "  </thead>\n",
       "  <tbody>\n",
       "    <tr>\n",
       "      <th>0</th>\n",
       "      <td>2007</td>\n",
       "      <td>1</td>\n",
       "      <td>1</td>\n",
       "      <td>155</td>\n",
       "      <td>West Bank and Gaza Strip</td>\n",
       "      <td>10</td>\n",
       "      <td>Middle East &amp; North Africa</td>\n",
       "      <td>Gaza Strip</td>\n",
       "      <td>Unknown</td>\n",
       "      <td>1</td>\n",
       "      <td>...</td>\n",
       "      <td>159.0</td>\n",
       "      <td>Peru</td>\n",
       "      <td>Unknown</td>\n",
       "      <td>0</td>\n",
       "      <td>5</td>\n",
       "      <td>Firearms</td>\n",
       "      <td>NaN</td>\n",
       "      <td>0.0</td>\n",
       "      <td>1.0</td>\n",
       "      <td>0.0</td>\n",
       "    </tr>\n",
       "    <tr>\n",
       "      <th>1</th>\n",
       "      <td>2007</td>\n",
       "      <td>1</td>\n",
       "      <td>1</td>\n",
       "      <td>205</td>\n",
       "      <td>Thailand</td>\n",
       "      <td>5</td>\n",
       "      <td>Southeast Asia</td>\n",
       "      <td>Bangkok ( District )</td>\n",
       "      <td>Bangkok</td>\n",
       "      <td>1</td>\n",
       "      <td>...</td>\n",
       "      <td>205.0</td>\n",
       "      <td>Thailand</td>\n",
       "      <td>Unknown</td>\n",
       "      <td>0</td>\n",
       "      <td>6</td>\n",
       "      <td>Explosives</td>\n",
       "      <td>NaN</td>\n",
       "      <td>3.0</td>\n",
       "      <td>0.0</td>\n",
       "      <td>NaN</td>\n",
       "    </tr>\n",
       "  </tbody>\n",
       "</table>\n",
       "<p>2 rows × 27 columns</p>\n",
       "</div>"
      ],
      "text/plain": [
       "   iyear  imonth  idate  country               country_txt  region  \\\n",
       "0   2007       1      1      155  West Bank and Gaza Strip      10   \n",
       "1   2007       1      1      205                  Thailand       5   \n",
       "\n",
       "                   region_txt             provstate     city  crit1  ...    \\\n",
       "0  Middle East & North Africa            Gaza Strip  Unknown      1  ...     \n",
       "1              Southeast Asia  Bangkok ( District )  Bangkok      1  ...     \n",
       "\n",
       "   natlty1  natlty1_txt    gname  individual weaptype1  weaptype1_txt  \\\n",
       "0    159.0         Peru  Unknown           0         5       Firearms   \n",
       "1    205.0     Thailand  Unknown           0         6     Explosives   \n",
       "\n",
       "  weapdetail  nkill ishostkid ransom  \n",
       "0        NaN    0.0       1.0    0.0  \n",
       "1        NaN    3.0       0.0    NaN  \n",
       "\n",
       "[2 rows x 27 columns]"
      ]
     },
     "execution_count": 24,
     "metadata": {},
     "output_type": "execute_result"
    }
   ],
   "source": [
    "df2_pd.head(2)"
   ]
  },
  {
   "cell_type": "code",
   "execution_count": 25,
   "metadata": {},
   "outputs": [
    {
     "data": {
      "text/html": [
       "<div>\n",
       "<style scoped>\n",
       "    .dataframe tbody tr th:only-of-type {\n",
       "        vertical-align: middle;\n",
       "    }\n",
       "\n",
       "    .dataframe tbody tr th {\n",
       "        vertical-align: top;\n",
       "    }\n",
       "\n",
       "    .dataframe thead th {\n",
       "        text-align: right;\n",
       "    }\n",
       "</style>\n",
       "<table border=\"1\" class=\"dataframe\">\n",
       "  <thead>\n",
       "    <tr style=\"text-align: right;\">\n",
       "      <th></th>\n",
       "      <th>iyear</th>\n",
       "      <th>imonth</th>\n",
       "      <th>idate</th>\n",
       "      <th>country</th>\n",
       "      <th>country_txt</th>\n",
       "      <th>region</th>\n",
       "      <th>region_txt</th>\n",
       "      <th>provstate</th>\n",
       "      <th>city</th>\n",
       "      <th>crit1</th>\n",
       "      <th>...</th>\n",
       "      <th>natlty1</th>\n",
       "      <th>natlty1_txt</th>\n",
       "      <th>gname</th>\n",
       "      <th>individual</th>\n",
       "      <th>weaptype1</th>\n",
       "      <th>weaptype1_txt</th>\n",
       "      <th>weapdetail</th>\n",
       "      <th>nkill</th>\n",
       "      <th>ishostkid</th>\n",
       "      <th>ransom</th>\n",
       "    </tr>\n",
       "  </thead>\n",
       "  <tbody>\n",
       "    <tr>\n",
       "      <th>99581</th>\n",
       "      <td>2017</td>\n",
       "      <td>12</td>\n",
       "      <td>31</td>\n",
       "      <td>92</td>\n",
       "      <td>India</td>\n",
       "      <td>6</td>\n",
       "      <td>South Asia</td>\n",
       "      <td>Manipur</td>\n",
       "      <td>Imphal</td>\n",
       "      <td>1</td>\n",
       "      <td>...</td>\n",
       "      <td>92.0</td>\n",
       "      <td>India</td>\n",
       "      <td>Unknown</td>\n",
       "      <td>0</td>\n",
       "      <td>6</td>\n",
       "      <td>Explosives</td>\n",
       "      <td>A thrown grenade was used in the attack.</td>\n",
       "      <td>0.0</td>\n",
       "      <td>0.0</td>\n",
       "      <td>NaN</td>\n",
       "    </tr>\n",
       "    <tr>\n",
       "      <th>99582</th>\n",
       "      <td>2017</td>\n",
       "      <td>12</td>\n",
       "      <td>31</td>\n",
       "      <td>160</td>\n",
       "      <td>Philippines</td>\n",
       "      <td>5</td>\n",
       "      <td>Southeast Asia</td>\n",
       "      <td>Maguindanao</td>\n",
       "      <td>Cotabato City</td>\n",
       "      <td>1</td>\n",
       "      <td>...</td>\n",
       "      <td>160.0</td>\n",
       "      <td>Philippines</td>\n",
       "      <td>Unknown</td>\n",
       "      <td>0</td>\n",
       "      <td>6</td>\n",
       "      <td>Explosives</td>\n",
       "      <td>An explosive device containing a detonating co...</td>\n",
       "      <td>0.0</td>\n",
       "      <td>0.0</td>\n",
       "      <td>NaN</td>\n",
       "    </tr>\n",
       "  </tbody>\n",
       "</table>\n",
       "<p>2 rows × 27 columns</p>\n",
       "</div>"
      ],
      "text/plain": [
       "       iyear  imonth  idate  country  country_txt  region      region_txt  \\\n",
       "99581   2017      12     31       92        India       6      South Asia   \n",
       "99582   2017      12     31      160  Philippines       5  Southeast Asia   \n",
       "\n",
       "         provstate           city  crit1  ...    natlty1  natlty1_txt  \\\n",
       "99581      Manipur         Imphal      1  ...       92.0        India   \n",
       "99582  Maguindanao  Cotabato City      1  ...      160.0  Philippines   \n",
       "\n",
       "         gname  individual weaptype1  weaptype1_txt  \\\n",
       "99581  Unknown           0         6     Explosives   \n",
       "99582  Unknown           0         6     Explosives   \n",
       "\n",
       "                                              weapdetail  nkill ishostkid  \\\n",
       "99581           A thrown grenade was used in the attack.    0.0       0.0   \n",
       "99582  An explosive device containing a detonating co...    0.0       0.0   \n",
       "\n",
       "      ransom  \n",
       "99581    NaN  \n",
       "99582    NaN  \n",
       "\n",
       "[2 rows x 27 columns]"
      ]
     },
     "execution_count": 25,
     "metadata": {},
     "output_type": "execute_result"
    }
   ],
   "source": [
    "df2_pd.tail(2)"
   ]
  },
  {
   "cell_type": "code",
   "execution_count": 26,
   "metadata": {},
   "outputs": [
    {
     "data": {
      "text/html": [
       "<div>\n",
       "<style scoped>\n",
       "    .dataframe tbody tr th:only-of-type {\n",
       "        vertical-align: middle;\n",
       "    }\n",
       "\n",
       "    .dataframe tbody tr th {\n",
       "        vertical-align: top;\n",
       "    }\n",
       "\n",
       "    .dataframe thead th {\n",
       "        text-align: right;\n",
       "    }\n",
       "</style>\n",
       "<table border=\"1\" class=\"dataframe\">\n",
       "  <thead>\n",
       "    <tr style=\"text-align: right;\">\n",
       "      <th></th>\n",
       "      <th>iyear</th>\n",
       "      <th>imonth</th>\n",
       "      <th>idate</th>\n",
       "      <th>country</th>\n",
       "      <th>country_txt</th>\n",
       "      <th>region</th>\n",
       "      <th>region_txt</th>\n",
       "      <th>provstate</th>\n",
       "      <th>city</th>\n",
       "      <th>crit1</th>\n",
       "      <th>...</th>\n",
       "      <th>natlty1</th>\n",
       "      <th>natlty1_txt</th>\n",
       "      <th>gname</th>\n",
       "      <th>individual</th>\n",
       "      <th>weaptype1</th>\n",
       "      <th>weaptype1_txt</th>\n",
       "      <th>weapdetail</th>\n",
       "      <th>nkill</th>\n",
       "      <th>ishostkid</th>\n",
       "      <th>ransom</th>\n",
       "    </tr>\n",
       "  </thead>\n",
       "  <tbody>\n",
       "    <tr>\n",
       "      <th>0</th>\n",
       "      <td>2000</td>\n",
       "      <td>1</td>\n",
       "      <td>1</td>\n",
       "      <td>139</td>\n",
       "      <td>Namibia</td>\n",
       "      <td>11</td>\n",
       "      <td>Sub-Saharan Africa</td>\n",
       "      <td>Kavango</td>\n",
       "      <td>Muitjiku</td>\n",
       "      <td>1</td>\n",
       "      <td>...</td>\n",
       "      <td>139.0</td>\n",
       "      <td>Namibia</td>\n",
       "      <td>National Union for the Total Independence of A...</td>\n",
       "      <td>0</td>\n",
       "      <td>5</td>\n",
       "      <td>Firearms</td>\n",
       "      <td>NaN</td>\n",
       "      <td>0.0</td>\n",
       "      <td>0.0</td>\n",
       "      <td>NaN</td>\n",
       "    </tr>\n",
       "    <tr>\n",
       "      <th>1</th>\n",
       "      <td>2000</td>\n",
       "      <td>1</td>\n",
       "      <td>1</td>\n",
       "      <td>139</td>\n",
       "      <td>Namibia</td>\n",
       "      <td>11</td>\n",
       "      <td>Sub-Saharan Africa</td>\n",
       "      <td>Kavango</td>\n",
       "      <td>Muitjiku</td>\n",
       "      <td>1</td>\n",
       "      <td>...</td>\n",
       "      <td>139.0</td>\n",
       "      <td>Namibia</td>\n",
       "      <td>National Union for the Total Independence of A...</td>\n",
       "      <td>0</td>\n",
       "      <td>5</td>\n",
       "      <td>Firearms</td>\n",
       "      <td>NaN</td>\n",
       "      <td>0.0</td>\n",
       "      <td>1.0</td>\n",
       "      <td>0.0</td>\n",
       "    </tr>\n",
       "  </tbody>\n",
       "</table>\n",
       "<p>2 rows × 27 columns</p>\n",
       "</div>"
      ],
      "text/plain": [
       "   iyear  imonth  idate  country country_txt  region          region_txt  \\\n",
       "0   2000       1      1      139     Namibia      11  Sub-Saharan Africa   \n",
       "1   2000       1      1      139     Namibia      11  Sub-Saharan Africa   \n",
       "\n",
       "  provstate      city  crit1  ...    natlty1  natlty1_txt  \\\n",
       "0   Kavango  Muitjiku      1  ...      139.0      Namibia   \n",
       "1   Kavango  Muitjiku      1  ...      139.0      Namibia   \n",
       "\n",
       "                                               gname  individual weaptype1  \\\n",
       "0  National Union for the Total Independence of A...           0         5   \n",
       "1  National Union for the Total Independence of A...           0         5   \n",
       "\n",
       "   weaptype1_txt weapdetail  nkill ishostkid ransom  \n",
       "0       Firearms        NaN    0.0       0.0    NaN  \n",
       "1       Firearms        NaN    0.0       1.0    0.0  \n",
       "\n",
       "[2 rows x 27 columns]"
      ]
     },
     "execution_count": 26,
     "metadata": {},
     "output_type": "execute_result"
    }
   ],
   "source": [
    "terrorismdf_pd.head(2)"
   ]
  },
  {
   "cell_type": "code",
   "execution_count": 28,
   "metadata": {},
   "outputs": [
    {
     "data": {
      "text/html": [
       "<div>\n",
       "<style scoped>\n",
       "    .dataframe tbody tr th:only-of-type {\n",
       "        vertical-align: middle;\n",
       "    }\n",
       "\n",
       "    .dataframe tbody tr th {\n",
       "        vertical-align: top;\n",
       "    }\n",
       "\n",
       "    .dataframe thead th {\n",
       "        text-align: right;\n",
       "    }\n",
       "</style>\n",
       "<table border=\"1\" class=\"dataframe\">\n",
       "  <thead>\n",
       "    <tr style=\"text-align: right;\">\n",
       "      <th></th>\n",
       "      <th>iyear</th>\n",
       "      <th>imonth</th>\n",
       "      <th>idate</th>\n",
       "      <th>country</th>\n",
       "      <th>country_txt</th>\n",
       "      <th>region</th>\n",
       "      <th>region_txt</th>\n",
       "      <th>provstate</th>\n",
       "      <th>city</th>\n",
       "      <th>crit1</th>\n",
       "      <th>...</th>\n",
       "      <th>natlty1</th>\n",
       "      <th>natlty1_txt</th>\n",
       "      <th>gname</th>\n",
       "      <th>individual</th>\n",
       "      <th>weaptype1</th>\n",
       "      <th>weaptype1_txt</th>\n",
       "      <th>weapdetail</th>\n",
       "      <th>nkill</th>\n",
       "      <th>ishostkid</th>\n",
       "      <th>ransom</th>\n",
       "    </tr>\n",
       "  </thead>\n",
       "  <tbody>\n",
       "    <tr>\n",
       "      <th>111854</th>\n",
       "      <td>2017</td>\n",
       "      <td>12</td>\n",
       "      <td>31</td>\n",
       "      <td>92</td>\n",
       "      <td>India</td>\n",
       "      <td>6</td>\n",
       "      <td>South Asia</td>\n",
       "      <td>Manipur</td>\n",
       "      <td>Imphal</td>\n",
       "      <td>1</td>\n",
       "      <td>...</td>\n",
       "      <td>92.0</td>\n",
       "      <td>India</td>\n",
       "      <td>Unknown</td>\n",
       "      <td>0</td>\n",
       "      <td>6</td>\n",
       "      <td>Explosives</td>\n",
       "      <td>A thrown grenade was used in the attack.</td>\n",
       "      <td>0.0</td>\n",
       "      <td>0.0</td>\n",
       "      <td>NaN</td>\n",
       "    </tr>\n",
       "    <tr>\n",
       "      <th>111855</th>\n",
       "      <td>2017</td>\n",
       "      <td>12</td>\n",
       "      <td>31</td>\n",
       "      <td>160</td>\n",
       "      <td>Philippines</td>\n",
       "      <td>5</td>\n",
       "      <td>Southeast Asia</td>\n",
       "      <td>Maguindanao</td>\n",
       "      <td>Cotabato City</td>\n",
       "      <td>1</td>\n",
       "      <td>...</td>\n",
       "      <td>160.0</td>\n",
       "      <td>Philippines</td>\n",
       "      <td>Unknown</td>\n",
       "      <td>0</td>\n",
       "      <td>6</td>\n",
       "      <td>Explosives</td>\n",
       "      <td>An explosive device containing a detonating co...</td>\n",
       "      <td>0.0</td>\n",
       "      <td>0.0</td>\n",
       "      <td>NaN</td>\n",
       "    </tr>\n",
       "  </tbody>\n",
       "</table>\n",
       "<p>2 rows × 27 columns</p>\n",
       "</div>"
      ],
      "text/plain": [
       "        iyear  imonth  idate  country  country_txt  region      region_txt  \\\n",
       "111854   2017      12     31       92        India       6      South Asia   \n",
       "111855   2017      12     31      160  Philippines       5  Southeast Asia   \n",
       "\n",
       "          provstate           city  crit1  ...    natlty1  natlty1_txt  \\\n",
       "111854      Manipur         Imphal      1  ...       92.0        India   \n",
       "111855  Maguindanao  Cotabato City      1  ...      160.0  Philippines   \n",
       "\n",
       "          gname  individual weaptype1  weaptype1_txt  \\\n",
       "111854  Unknown           0         6     Explosives   \n",
       "111855  Unknown           0         6     Explosives   \n",
       "\n",
       "                                               weapdetail  nkill ishostkid  \\\n",
       "111854           A thrown grenade was used in the attack.    0.0       0.0   \n",
       "111855  An explosive device containing a detonating co...    0.0       0.0   \n",
       "\n",
       "       ransom  \n",
       "111854    NaN  \n",
       "111855    NaN  \n",
       "\n",
       "[2 rows x 27 columns]"
      ]
     },
     "execution_count": 28,
     "metadata": {},
     "output_type": "execute_result"
    }
   ],
   "source": [
    "terrorismdf_pd.tail(2)"
   ]
  },
  {
   "cell_type": "markdown",
   "metadata": {},
   "source": [
    "# Initial Exploration and Visualisation "
   ]
  },
  {
   "cell_type": "code",
   "execution_count": 18,
   "metadata": {},
   "outputs": [
    {
     "ename": "TypeError",
     "evalue": "corr() missing 2 required positional arguments: 'col1' and 'col2'",
     "output_type": "error",
     "traceback": [
      "\u001b[0;31m---------------------------------------------------------------------------\u001b[0m",
      "\u001b[0;31mTypeError\u001b[0m                                 Traceback (most recent call last)",
      "\u001b[0;32m<ipython-input-18-ecdacdfb96c0>\u001b[0m in \u001b[0;36m<module>\u001b[0;34m()\u001b[0m\n\u001b[1;32m      1\u001b[0m \u001b[0;31m#finding correlation for country\u001b[0m\u001b[0;34m\u001b[0m\u001b[0;34m\u001b[0m\u001b[0m\n\u001b[0;32m----> 2\u001b[0;31m \u001b[0mterrorismdf\u001b[0m\u001b[0;34m.\u001b[0m\u001b[0mcorr\u001b[0m\u001b[0;34m(\u001b[0m\u001b[0;34m)\u001b[0m\u001b[0;34m[\u001b[0m\u001b[0;34m\"country\"\u001b[0m\u001b[0;34m]\u001b[0m\u001b[0;34m\u001b[0m\u001b[0m\n\u001b[0m",
      "\u001b[0;31mTypeError\u001b[0m: corr() missing 2 required positional arguments: 'col1' and 'col2'"
     ]
    }
   ],
   "source": [
    "#finding correlation for country\n",
    "terrorismdf.corr()[\"country\"]"
   ]
  },
  {
   "cell_type": "code",
   "execution_count": null,
   "metadata": {},
   "outputs": [],
   "source": []
  }
 ],
 "metadata": {
  "kernelspec": {
   "display_name": "Python 3",
   "language": "python",
   "name": "python3"
  },
  "language_info": {
   "codemirror_mode": {
    "name": "ipython",
    "version": 3
   },
   "file_extension": ".py",
   "mimetype": "text/x-python",
   "name": "python",
   "nbconvert_exporter": "python",
   "pygments_lexer": "ipython3",
   "version": "3.5.2"
  }
 },
 "nbformat": 4,
 "nbformat_minor": 2
}
